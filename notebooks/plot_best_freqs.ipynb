{
 "cells": [
  {
   "cell_type": "code",
   "execution_count": 21,
   "metadata": {},
   "outputs": [],
   "source": [
    "import numpy as np\n",
    "import pickle\n",
    "import sys\n",
    "sys.path.append(\"../\")\n",
    "from src.utils import get_cell_x, get_cell_y, get_best_frequency_by_area, get_active_cells"
   ]
  },
  {
   "cell_type": "code",
   "execution_count": 22,
   "metadata": {},
   "outputs": [],
   "source": [
    "def get_best_frequency(cell_tuning,freqs):\n",
    "    median_across_itsies = np.median(cell_tuning, axis=0)\n",
    "    max_response_idx = np.argmax(median_across_itsies)\n",
    "    return freqs(max_response_idx)"
   ]
  },
  {
   "cell_type": "code",
   "execution_count": 28,
   "metadata": {},
   "outputs": [],
   "source": [
    "with open('/media/vtarka/USB DISK/Lab/2P/Vid_220/cells_ns.pkl', 'rb') as f:\n",
    "        cell_dictionary = pickle.load(f)\n"
   ]
  },
  {
   "cell_type": "code",
   "execution_count": 29,
   "metadata": {},
   "outputs": [
    {
     "name": "stdout",
     "output_type": "stream",
     "text": [
      "158\n"
     ]
    }
   ],
   "source": [
    "cell_dict = get_active_cells(cell_dictionary)\n",
    "print(len(cell_dict))"
   ]
  },
  {
   "cell_type": "code",
   "execution_count": 30,
   "metadata": {},
   "outputs": [
    {
     "name": "stdout",
     "output_type": "stream",
     "text": [
      "dict_keys([5, 6, 12, 15, 17, 18, 19, 24, 28, 29, 30, 36, 50, 51, 52, 56, 58, 59, 62, 65, 67, 68, 70, 71, 74, 80, 82, 86, 89, 94, 98, 99, 108, 110, 117, 125, 126, 134, 137, 141, 143, 147, 159, 161, 162, 168, 173, 174, 175, 177, 178, 181, 185, 189, 191, 194, 203, 204, 205, 206, 208, 209, 210, 212, 218, 224, 225, 230, 235, 246, 256, 266, 268, 269, 274, 278, 279, 282, 287, 290, 296, 297, 301, 303, 316, 319, 320, 321, 326, 335, 345, 348, 358, 366, 372, 373, 376, 382, 395, 398, 400, 406, 410, 413, 416, 423, 430, 443, 444, 453, 470, 475, 486, 487, 489, 504, 506, 507, 508, 513, 524, 528, 541, 572, 573, 588, 596, 597, 599, 603, 607, 608, 611, 640, 642, 650, 658, 665, 675, 706, 708, 712, 716, 733, 738, 775, 785, 805, 829, 855, 856, 873, 985, 1049, 1062, 1079, 1124, 1140])\n",
      "dict_keys(['traces', 'active', 'tuning_curve_peak', 'x', 'y'])\n"
     ]
    }
   ],
   "source": [
    "print(cell_dict.keys())\n",
    "print(cell_dict[12].keys())"
   ]
  },
  {
   "cell_type": "code",
   "execution_count": 31,
   "metadata": {},
   "outputs": [],
   "source": [
    "import matplotlib.pyplot as plt\n",
    "from matplotlib import cm"
   ]
  },
  {
   "cell_type": "code",
   "execution_count": 32,
   "metadata": {},
   "outputs": [
    {
     "ename": "TypeError",
     "evalue": "get_best_frequency() missing 1 required positional argument: 'freqs'",
     "output_type": "error",
     "traceback": [
      "\u001b[0;31m---------------------------------------------------------------------------\u001b[0m",
      "\u001b[0;31mTypeError\u001b[0m                                 Traceback (most recent call last)",
      "\u001b[0;32m<ipython-input-32-4f32b49459bf>\u001b[0m in \u001b[0;36m<module>\u001b[0;34m\u001b[0m\n\u001b[1;32m      5\u001b[0m     \u001b[0mx\u001b[0m\u001b[0;34m.\u001b[0m\u001b[0mappend\u001b[0m\u001b[0;34m(\u001b[0m\u001b[0;34m(\u001b[0m\u001b[0mcell_dict\u001b[0m\u001b[0;34m[\u001b[0m\u001b[0mcell\u001b[0m\u001b[0;34m]\u001b[0m\u001b[0;34m[\u001b[0m\u001b[0;34m'x'\u001b[0m\u001b[0;34m]\u001b[0m\u001b[0;34m)\u001b[0m\u001b[0;34m)\u001b[0m\u001b[0;34m\u001b[0m\u001b[0;34m\u001b[0m\u001b[0m\n\u001b[1;32m      6\u001b[0m     \u001b[0my\u001b[0m\u001b[0;34m.\u001b[0m\u001b[0mappend\u001b[0m\u001b[0;34m(\u001b[0m\u001b[0;34m(\u001b[0m\u001b[0mcell_dict\u001b[0m\u001b[0;34m[\u001b[0m\u001b[0mcell\u001b[0m\u001b[0;34m]\u001b[0m\u001b[0;34m[\u001b[0m\u001b[0;34m'y'\u001b[0m\u001b[0;34m]\u001b[0m\u001b[0;34m)\u001b[0m\u001b[0;34m)\u001b[0m\u001b[0;34m\u001b[0m\u001b[0;34m\u001b[0m\u001b[0m\n\u001b[0;32m----> 7\u001b[0;31m     \u001b[0mc\u001b[0m\u001b[0;34m.\u001b[0m\u001b[0mappend\u001b[0m\u001b[0;34m(\u001b[0m\u001b[0mget_best_frequency\u001b[0m\u001b[0;34m(\u001b[0m\u001b[0mcell_dict\u001b[0m\u001b[0;34m[\u001b[0m\u001b[0mcell\u001b[0m\u001b[0;34m]\u001b[0m\u001b[0;34m[\u001b[0m\u001b[0;34m'tuning_curve_peak'\u001b[0m\u001b[0;34m]\u001b[0m\u001b[0;34m)\u001b[0m\u001b[0;34m)\u001b[0m\u001b[0;34m\u001b[0m\u001b[0;34m\u001b[0m\u001b[0m\n\u001b[0m\u001b[1;32m      8\u001b[0m \u001b[0;34m\u001b[0m\u001b[0m\n\u001b[1;32m      9\u001b[0m \u001b[0mplt\u001b[0m\u001b[0;34m.\u001b[0m\u001b[0mscatter\u001b[0m\u001b[0;34m(\u001b[0m\u001b[0mx\u001b[0m\u001b[0;34m,\u001b[0m\u001b[0my\u001b[0m\u001b[0;34m,\u001b[0m\u001b[0mc\u001b[0m\u001b[0;34m=\u001b[0m\u001b[0mc\u001b[0m\u001b[0;34m,\u001b[0m\u001b[0mcmap\u001b[0m\u001b[0;34m=\u001b[0m\u001b[0mplt\u001b[0m\u001b[0;34m.\u001b[0m\u001b[0mget_cmap\u001b[0m\u001b[0;34m(\u001b[0m\u001b[0;34m\"inferno\"\u001b[0m\u001b[0;34m)\u001b[0m\u001b[0;34m)\u001b[0m\u001b[0;34m\u001b[0m\u001b[0;34m\u001b[0m\u001b[0m\n",
      "\u001b[0;31mTypeError\u001b[0m: get_best_frequency() missing 1 required positional argument: 'freqs'"
     ]
    }
   ],
   "source": [
    "x = []\n",
    "y = []\n",
    "c = []\n",
    "for cell in cell_dict:\n",
    "    x.append((cell_dict[cell]['x']))\n",
    "    y.append((cell_dict[cell]['y']))\n",
    "    c.append(get_best_frequency(cell_dict[cell]['tuning_curve_peak'],[4.4,5.4,6.6,8.1,10,12,15,19,23,28,28,35,43]))\n",
    "\n",
    "plt.scatter(x,y,c=c,cmap=plt.get_cmap(\"inferno\"))\n",
    "plt.colorbar()\n",
    "plt.title(\"BF by peak\")\n",
    "plt.show()"
   ]
  },
  {
   "cell_type": "code",
   "execution_count": 37,
   "metadata": {},
   "outputs": [
    {
     "name": "stdout",
     "output_type": "stream",
     "text": [
      "[ 0  4  8 12 16 20 24 28 32 36 40 44]\n"
     ]
    }
   ],
   "source": [
    "print(np.arange(0,48,4))"
   ]
  },
  {
   "cell_type": "code",
   "execution_count": 42,
   "metadata": {},
   "outputs": [
    {
     "data": {
      "image/png": "[encoded data removed]",
      "text/plain": [
       "<Figure size 432x288 with 1 Axes>"
      ]
     },
     "metadata": {
      "needs_background": "light"
     },
     "output_type": "display_data"
    }
   ],
   "source": [
    "plt.hist(c,bins=np.arange(0,50,4))\n",
    "plt.yticks(np.arange(0,22,2))\n",
    "plt.show()"
   ]
  },
  {
   "cell_type": "code",
   "execution_count": 31,
   "metadata": {},
   "outputs": [],
   "source": [
    "c_pre = c"
   ]
  },
  {
   "cell_type": "code",
   "execution_count": null,
   "metadata": {},
   "outputs": [],
   "source": []
  }
 ],
 "metadata": {
  "kernelspec": {
   "display_name": "Python 2.7.17 ('2p_venv': venv)",
   "language": "python",
   "name": "python3"
  },
  "language_info": {
   "codemirror_mode": {
    "name": "ipython",
    "version": 3
   },
   "file_extension": ".py",
   "mimetype": "text/x-python",
   "name": "python",
   "nbconvert_exporter": "python",
   "pygments_lexer": "ipython3",
   "version": "3.6.9"
  },
  "orig_nbformat": 4,
  "vscode": {
   "interpreter": {
    "hash": "872ec5d3a98eaebd43d4cc435e23abf322938afc9cf76faa52c478ec25a89a60"
   }
  }
 },
 "nbformat": 4,
 "nbformat_minor": 2
}
