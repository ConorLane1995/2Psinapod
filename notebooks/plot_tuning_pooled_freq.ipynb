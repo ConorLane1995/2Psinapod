{
 "cells": [
  {
   "cell_type": "code",
   "execution_count": 1,
   "metadata": {},
   "outputs": [],
   "source": [
    "import numpy as np\n",
    "import pickle\n",
    "import matplotlib as mpl\n",
    "import matplotlib.pyplot as plt\n",
    "from cmath import sqrt\n"
   ]
  },
  {
   "cell_type": "code",
   "execution_count": 2,
   "metadata": {},
   "outputs": [],
   "source": [
    "def plot_single_tuning_curve(cell_dictionary,cell_ID):\n",
    "\n",
    "    fig = plt.figure(1)\n",
    "    ax = fig.gca()\n",
    "\n",
    "    # frequency_labels = [5.7,23,45] #,52]\n",
    "    # intensity_labels = [0,70,80,90] #[50,70,90]\n",
    "\n",
    "    frequency_labels = [2,4.5,10,23,52]\n",
    "    # intensity_labels = [30,50,70]\n",
    "    intensity_labels = [0,50,70,90]\n",
    "\n",
    "    # get cell ID at this index so we can pull its tuning curve\n",
    "    # cell_IDs = list(cell_dictionary.keys())\n",
    "    # cell_of_interest_ID = cell_IDs[cell_IDX]\n",
    "\n",
    "    cell_tuning = cell_dictionary[cell_ID]['tuning_curve_peak']\n",
    "\n",
    "    im = plt.imshow(np.transpose(cell_tuning),cmap='jet',origin='lower')\n",
    "    plt.colorbar(im)\n",
    "    # plt.xticks([0,1,2])\n",
    "    # ax.set_xticklabels(frequency_labels)\n",
    "    # plt.yticks([0,1,2,3])\n",
    "    # ax.set_yticklabels(intensity_labels)\n",
    "    plt.xticks([0,2,4,6,8])\n",
    "    ax.set_xticklabels(frequency_labels)\n",
    "    plt.yticks([0,2,4,6])\n",
    "    ax.set_yticklabels(intensity_labels)\n",
    "    plt.show()"
   ]
  },
  {
   "cell_type": "code",
   "execution_count": 3,
   "metadata": {},
   "outputs": [],
   "source": [
    "def get_cell_tuning_by_peak(cell_traces,plot_TF):\n",
    "\n",
    "    a = np.empty((7,9,5), int)\n",
    "\n",
    "    frequency_counter = 0\n",
    "    for freq in cell_traces:\n",
    "\n",
    "        intensity_counter = 0\n",
    "        for intensity in cell_traces[freq]:\n",
    "            \n",
    "            rep_counter = 0\n",
    "            for rep in cell_traces[freq][intensity]:\n",
    "                a[intensity_counter,frequency_counter,rep] = cell_traces[freq][intensity][rep]\n",
    "                rep += 1\n",
    "\n",
    "            intensity_counter += 1\n",
    "        \n",
    "        frequency_counter += 1\n",
    "\n",
    "\n",
    "    fig,axs = plt.subplots(7)\n",
    "\n",
    "    for intensity_counter in range(7):\n",
    "        \n",
    "        for frequency_counter in range(9):\n",
    "\n",
    "            for rep_counter in range(5):\n",
    "\n",
    "                axs[intensity_counter].plot(a[intensity_counter,frequency_counter,rep_counter])\n",
    "\n",
    "\n",
    "    plt.show()\n"
   ]
  },
  {
   "cell_type": "code",
   "execution_count": 4,
   "metadata": {},
   "outputs": [],
   "source": [
    "with open('D:/Lab/2P/Vid_187/cells.pkl', 'rb') as f:\n",
    "        cell_dictionary = pickle.load(f)\n"
   ]
  },
  {
   "cell_type": "code",
   "execution_count": 5,
   "metadata": {},
   "outputs": [
    {
     "name": "stdout",
     "output_type": "stream",
     "text": [
      "dict_keys(['traces', 'active', 'tuning_curve_adj', 'tuning_curve_peak'])\n"
     ]
    }
   ],
   "source": [
    "print(cell_dictionary[1].keys())"
   ]
  },
  {
   "cell_type": "code",
   "execution_count": 6,
   "metadata": {},
   "outputs": [
    {
     "name": "stdout",
     "output_type": "stream",
     "text": [
      "True\n"
     ]
    },
    {
     "data": {
      "image/png": "[encoded data removed]",
      "text/plain": [
       "<Figure size 432x288 with 2 Axes>"
      ]
     },
     "metadata": {
      "needs_background": "light"
     },
     "output_type": "display_data"
    }
   ],
   "source": [
    "cell_ID = 105\n",
    "print(cell_dictionary[cell_ID]['active'])\n",
    "plot_single_tuning_curve(cell_dictionary,cell_ID)\n",
    "get_cell_tuning_by_peak(cell_dictionary[cell_ID]['traces'],True)\n"
   ]
  },
  {
   "cell_type": "code",
   "execution_count": null,
   "metadata": {},
   "outputs": [],
   "source": []
  }
 ],
 "metadata": {
  "interpreter": {
   "hash": "5634d4e81f305e5c9e0e042236d405389107bf17ac9c22bed0f8afcfbbcfafd4"
  },
  "kernelspec": {
   "display_name": "Python 3.8.2 64-bit",
   "language": "python",
   "name": "python3"
  },
  "language_info": {
   "codemirror_mode": {
    "name": "ipython",
    "version": 3
   },
   "file_extension": ".py",
   "mimetype": "text/x-python",
   "name": "python",
   "nbconvert_exporter": "python",
   "pygments_lexer": "ipython3",
   "version": "3.8.2"
  },
  "orig_nbformat": 4
 },
 "nbformat": 4,
 "nbformat_minor": 2
}
