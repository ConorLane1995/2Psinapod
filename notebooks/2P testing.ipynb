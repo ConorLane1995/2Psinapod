{
 "cells": [
  {
   "cell_type": "code",
   "execution_count": 1,
   "id": "e1437ed0",
   "metadata": {},
   "outputs": [],
   "source": [
    "import numpy as np\n",
    "import pickle"
   ]
  },
  {
   "cell_type": "code",
   "execution_count": 2,
   "id": "4a3915ce",
   "metadata": {},
   "outputs": [],
   "source": [
    "BASE_PATH = \"D:/vid127_pseudorandom_stim/\"\n",
    "stim_path = \"Stim_Data_PseudoRandom_vid127.npy\"\n",
    "epoched_rec_path = \"epoched_F.npy\"\n",
    "output_file = \"cell_traces_with_stims.pkl\""
   ]
  },
  {
   "cell_type": "code",
   "execution_count": 3,
   "id": "dba3c7d8",
   "metadata": {},
   "outputs": [],
   "source": [
    "traces = np.load(BASE_PATH + epoched_rec_path,allow_pickle=True)"
   ]
  },
  {
   "cell_type": "code",
   "execution_count": 4,
   "id": "0e48f397",
   "metadata": {},
   "outputs": [
    {
     "data": {
      "text/plain": [
       "277"
      ]
     },
     "execution_count": 4,
     "metadata": {},
     "output_type": "execute_result"
    }
   ],
   "source": [
    "len(traces)"
   ]
  },
  {
   "cell_type": "code",
   "execution_count": 5,
   "id": "a00b45ef",
   "metadata": {},
   "outputs": [
    {
     "data": {
      "text/plain": [
       "35"
      ]
     },
     "execution_count": 5,
     "metadata": {},
     "output_type": "execute_result"
    }
   ],
   "source": [
    "len(traces[0])"
   ]
  },
  {
   "cell_type": "code",
   "execution_count": 6,
   "id": "7af889a3",
   "metadata": {},
   "outputs": [],
   "source": [
    "with open(BASE_PATH + output_file, 'rb') as f:\n",
    "        formatted_traces = pickle.load(f)"
   ]
  },
  {
   "cell_type": "code",
   "execution_count": 7,
   "id": "b9b6b24d",
   "metadata": {},
   "outputs": [
    {
     "data": {
      "text/plain": [
       "277"
      ]
     },
     "execution_count": 7,
     "metadata": {},
     "output_type": "execute_result"
    }
   ],
   "source": [
    "len(traces)"
   ]
  },
  {
   "cell_type": "code",
   "execution_count": 6,
   "id": "1658c987",
   "metadata": {},
   "outputs": [
    {
     "ename": "OSError",
     "evalue": "[Errno 22] Invalid argument: 'D:\\x0bid127_pseudorandom_stim\\\\Stim_Data_PseudoRandom_vid127.npy'",
     "output_type": "error",
     "traceback": [
      "\u001b[1;31m---------------------------------------------------------------------------\u001b[0m",
      "\u001b[1;31mOSError\u001b[0m                                   Traceback (most recent call last)",
      "\u001b[1;32mc:\\Users\\vmtar\\2Psinapod\\notebooks\\2P testing.ipynb Cell 8'\u001b[0m in \u001b[0;36m<module>\u001b[1;34m\u001b[0m\n\u001b[1;32m----> <a href='vscode-notebook-cell:/c%3A/Users/vmtar/2Psinapod/notebooks/2P%20testing.ipynb#ch0000007?line=0'>1</a>\u001b[0m conds \u001b[39m=\u001b[39m np\u001b[39m.\u001b[39;49mload(\u001b[39m\"\u001b[39;49m\u001b[39mD:\u001b[39;49m\u001b[39m\\v\u001b[39;49;00m\u001b[39mid127_pseudorandom_stim\u001b[39;49m\u001b[39m\\\u001b[39;49m\u001b[39mStim_Data_PseudoRandom_vid127.npy\u001b[39;49m\u001b[39m\"\u001b[39;49m,allow_pickle\u001b[39m=\u001b[39;49m\u001b[39mTrue\u001b[39;49;00m)\n\u001b[0;32m      <a href='vscode-notebook-cell:/c%3A/Users/vmtar/2Psinapod/notebooks/2P%20testing.ipynb#ch0000007?line=1'>2</a>\u001b[0m \u001b[39mprint\u001b[39m(conds)\n",
      "File \u001b[1;32m~\\AppData\\Local\\Programs\\Python\\Python38\\lib\\site-packages\\numpy\\lib\\npyio.py:417\u001b[0m, in \u001b[0;36mload\u001b[1;34m(file, mmap_mode, allow_pickle, fix_imports, encoding)\u001b[0m\n\u001b[0;32m    <a href='file:///~/AppData/Local/Programs/Python/Python38/lib/site-packages/numpy/lib/npyio.py?line=414'>415</a>\u001b[0m     own_fid \u001b[39m=\u001b[39m \u001b[39mFalse\u001b[39;00m\n\u001b[0;32m    <a href='file:///~/AppData/Local/Programs/Python/Python38/lib/site-packages/numpy/lib/npyio.py?line=415'>416</a>\u001b[0m \u001b[39melse\u001b[39;00m:\n\u001b[1;32m--> <a href='file:///~/AppData/Local/Programs/Python/Python38/lib/site-packages/numpy/lib/npyio.py?line=416'>417</a>\u001b[0m     fid \u001b[39m=\u001b[39m stack\u001b[39m.\u001b[39menter_context(\u001b[39mopen\u001b[39;49m(os_fspath(file), \u001b[39m\"\u001b[39;49m\u001b[39mrb\u001b[39;49m\u001b[39m\"\u001b[39;49m))\n\u001b[0;32m    <a href='file:///~/AppData/Local/Programs/Python/Python38/lib/site-packages/numpy/lib/npyio.py?line=417'>418</a>\u001b[0m     own_fid \u001b[39m=\u001b[39m \u001b[39mTrue\u001b[39;00m\n\u001b[0;32m    <a href='file:///~/AppData/Local/Programs/Python/Python38/lib/site-packages/numpy/lib/npyio.py?line=419'>420</a>\u001b[0m \u001b[39m# Code to distinguish from NumPy binary files and pickles.\u001b[39;00m\n",
      "\u001b[1;31mOSError\u001b[0m: [Errno 22] Invalid argument: 'D:\\x0bid127_pseudorandom_stim\\\\Stim_Data_PseudoRandom_vid127.npy'"
     ]
    }
   ],
   "source": [
    "conds = np.load(\"D:\\\\vid127_pseudorandom_stim\\Stim_Data_PseudoRandom_vid127.npy\",allow_pickle=True)\n",
    "print(conds)"
   ]
  }
 ],
 "metadata": {
  "kernelspec": {
   "display_name": "Python 3 (ipykernel)",
   "language": "python",
   "name": "python3"
  },
  "language_info": {
   "codemirror_mode": {
    "name": "ipython",
    "version": 3
   },
   "file_extension": ".py",
   "mimetype": "text/x-python",
   "name": "python",
   "nbconvert_exporter": "python",
   "pygments_lexer": "ipython3",
   "version": "3.8.2"
  }
 },
 "nbformat": 4,
 "nbformat_minor": 5
}
