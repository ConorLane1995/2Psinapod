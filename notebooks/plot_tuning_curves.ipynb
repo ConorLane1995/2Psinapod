{
 "cells": [
  {
   "cell_type": "code",
   "execution_count": 1,
   "metadata": {},
   "outputs": [],
   "source": [
    "import numpy as np\n",
    "import pickle\n",
    "import matplotlib.pyplot as plt"
   ]
  },
  {
   "cell_type": "code",
   "execution_count": 15,
   "metadata": {},
   "outputs": [],
   "source": [
    "def plot_single_tuning_curve(cell_tuning,cell_ID,frequencies,intensities):\n",
    "\n",
    "    fig = plt.figure(1)\n",
    "    ax = fig.gca()\n",
    "\n",
    "    im = plt.imshow(np.transpose(cell_tuning),cmap='winter',origin='lower')\n",
    "    plt.colorbar(im)\n",
    "\n",
    "    if len(frequencies)>5: # if we have a lot of frequencies\n",
    "        # only show a label for every second frequency\n",
    "        ax.set_xticks(range(0,len(frequencies),2))\n",
    "        ax.set_xticklabels(frequencies[range(0,len(frequencies),2)])\n",
    "    else:\n",
    "        # otherwise show every frequency label\n",
    "        ax.set_xticks(range(0,len(frequencies)))\n",
    "        ax.set_xticklabels(frequencies[range(0,len(frequencies))])\n",
    "\n",
    "    # show every intensity label\n",
    "    ax.set_yticks(range(0,len(intensities)))\n",
    "    ax.set_yticklabels(intensities)\n",
    "\n",
    "    # label the axes\n",
    "    ax.set_ylabel(\"Intensity (dB)\")\n",
    "    ax.set_xlabel(\"Frequency (Hz)\")\n",
    "\n",
    "    plt.title(cell_ID)\n",
    "    plt.show()"
   ]
  },
  {
   "cell_type": "code",
   "execution_count": 13,
   "metadata": {},
   "outputs": [],
   "source": [
    "def plot_tuning_traces(cell_traces,n_frequencies,n_intensities,y_limit):\n",
    "\n",
    "    fig,axs = plt.subplots(n_intensities,n_frequencies,sharex='col',sharey='row',figsize=(14,5))\n",
    "\n",
    "    for row,freq in zip(range(n_frequencies),cell_traces.keys()):\n",
    "        for col,itsy in zip(range(n_intensities),reversed(list(cell_traces[freq].keys()))):\n",
    "            for rep in cell_traces[freq][itsy]:\n",
    "                axs[col,row].plot(cell_traces[freq][itsy][rep]) # plot every trial\n",
    "\n",
    "            # miscellaneous formatting\n",
    "            axs[col,row].set_xticks([])\n",
    "            axs[col,row].set_yticks([])\n",
    "            if row==0:\n",
    "                axs[col,row].set_ylabel(itsy) # add the intensity to the far left edge\n",
    "            if col==n_intensities-1:\n",
    "                axs[col,row].set_xlabel(freq) # add the frequency at the bottom\n",
    "            axs[col,row].axvline(x=4,color='k',linestyle='--')\n",
    "            axs[col,row].set_ylim(bottom=0,top=y_limit)\n",
    "            axs[col,row].autoscale(enable=True, axis='x', tight=True)\n",
    "\n",
    "    fig.subplots_adjust(wspace=0,hspace=0)\n",
    "    fig.set_facecolor('white')\n",
    "    fig.text(0.5,0.01,\"Frequency (Hz)\",va='center',ha='center')\n",
    "    fig.text(0.08,0.5,\"Intensity (dB)\",va='center',ha='center',rotation='vertical')\n",
    "    plt.show()"
   ]
  },
  {
   "cell_type": "code",
   "execution_count": 4,
   "metadata": {},
   "outputs": [],
   "source": [
    "with open('/media/vtarka/USB DISK/Lab/2P/Vid_222/cells.pkl', 'rb') as f:\n",
    "        cell_dictionary = pickle.load(f)\n"
   ]
  },
  {
   "cell_type": "code",
   "execution_count": 5,
   "metadata": {},
   "outputs": [
    {
     "name": "stdout",
     "output_type": "stream",
     "text": [
      "dict_keys([3, 9, 20, 22, 25, 27, 28, 29, 43, 46, 47, 48, 53, 55, 57, 58, 63, 64, 76, 77, 81, 83, 88, 89, 90, 93, 95, 101, 103, 110, 118, 119, 121, 124, 125, 129, 130, 136, 137, 141, 160, 163, 171, 180, 188, 189, 193, 200, 212, 221, 239, 249, 258, 269, 279, 289, 290, 298, 322, 327, 373, 378, 381, 402, 405, 444, 458, 482, 488, 636, 689, 718, 759, 807, 851, 1058, 1127, 1189, 1259, 1370, 1648, 2106])\n"
     ]
    }
   ],
   "source": [
    "print(cell_dictionary.keys())"
   ]
  },
  {
   "cell_type": "code",
   "execution_count": 6,
   "metadata": {},
   "outputs": [
    {
     "name": "stdout",
     "output_type": "stream",
     "text": [
      "3\n",
      "9\n",
      "20\n",
      "22\n",
      "25\n",
      "27\n",
      "28\n",
      "29\n",
      "43\n",
      "46\n",
      "47\n",
      "48\n",
      "53\n",
      "55\n",
      "57\n",
      "58\n",
      "63\n",
      "64\n",
      "76\n",
      "77\n",
      "81\n",
      "83\n",
      "88\n",
      "89\n",
      "90\n",
      "93\n",
      "95\n",
      "101\n",
      "103\n",
      "110\n",
      "118\n",
      "119\n",
      "121\n",
      "124\n",
      "125\n",
      "129\n",
      "130\n",
      "136\n",
      "137\n",
      "141\n",
      "160\n",
      "163\n",
      "171\n",
      "180\n",
      "188\n",
      "189\n",
      "193\n",
      "200\n",
      "212\n",
      "221\n",
      "239\n",
      "249\n",
      "258\n",
      "269\n",
      "279\n",
      "289\n",
      "290\n",
      "298\n",
      "322\n",
      "327\n",
      "373\n",
      "378\n",
      "381\n",
      "402\n",
      "405\n",
      "444\n",
      "458\n",
      "482\n",
      "488\n",
      "636\n",
      "689\n",
      "718\n",
      "759\n",
      "807\n",
      "851\n",
      "1058\n",
      "1127\n",
      "1189\n",
      "1259\n",
      "1370\n",
      "1648\n",
      "2106\n"
     ]
    }
   ],
   "source": [
    "for cell in cell_dictionary:\n",
    "    if cell_dictionary[cell]['active']:\n",
    "        print(cell)"
   ]
  },
  {
   "cell_type": "code",
   "execution_count": 20,
   "metadata": {},
   "outputs": [
    {
     "name": "stdout",
     "output_type": "stream",
     "text": [
      "True\n"
     ]
    },
    {
     "ename": "TypeError",
     "evalue": "list indices must be integers or slices, not range",
     "output_type": "error",
     "traceback": [
      "\u001b[0;31m---------------------------------------------------------------------------\u001b[0m",
      "\u001b[0;31mTypeError\u001b[0m                                 Traceback (most recent call last)",
      "\u001b[0;32m<ipython-input-20-32ca790c205f>\u001b[0m in \u001b[0;36m<module>\u001b[0;34m()\u001b[0m\n\u001b[1;32m      4\u001b[0m \u001b[0mfrequencies\u001b[0m \u001b[0;34m=\u001b[0m \u001b[0mlist\u001b[0m\u001b[0;34m(\u001b[0m\u001b[0mcell_dictionary\u001b[0m\u001b[0;34m[\u001b[0m\u001b[0mcell_ID\u001b[0m\u001b[0;34m]\u001b[0m\u001b[0;34m[\u001b[0m\u001b[0;34m'traces'\u001b[0m\u001b[0;34m]\u001b[0m\u001b[0;34m.\u001b[0m\u001b[0mkeys\u001b[0m\u001b[0;34m(\u001b[0m\u001b[0;34m)\u001b[0m\u001b[0;34m)\u001b[0m\u001b[0;34m\u001b[0m\u001b[0;34m\u001b[0m\u001b[0m\n\u001b[1;32m      5\u001b[0m \u001b[0mintensities\u001b[0m \u001b[0;34m=\u001b[0m \u001b[0mlist\u001b[0m\u001b[0;34m(\u001b[0m\u001b[0mcell_dictionary\u001b[0m\u001b[0;34m[\u001b[0m\u001b[0mcell_ID\u001b[0m\u001b[0;34m]\u001b[0m\u001b[0;34m[\u001b[0m\u001b[0;34m'traces'\u001b[0m\u001b[0;34m]\u001b[0m\u001b[0;34m[\u001b[0m\u001b[0mfrequencies\u001b[0m\u001b[0;34m[\u001b[0m\u001b[0;36m0\u001b[0m\u001b[0;34m]\u001b[0m\u001b[0;34m]\u001b[0m\u001b[0;34m.\u001b[0m\u001b[0mkeys\u001b[0m\u001b[0;34m(\u001b[0m\u001b[0;34m)\u001b[0m\u001b[0;34m)\u001b[0m\u001b[0;34m\u001b[0m\u001b[0;34m\u001b[0m\u001b[0m\n\u001b[0;32m----> 6\u001b[0;31m \u001b[0mplot_single_tuning_curve\u001b[0m\u001b[0;34m(\u001b[0m\u001b[0mcell_dictionary\u001b[0m\u001b[0;34m[\u001b[0m\u001b[0mcell_ID\u001b[0m\u001b[0;34m]\u001b[0m\u001b[0;34m[\u001b[0m\u001b[0;34m'tuning'\u001b[0m\u001b[0;34m]\u001b[0m\u001b[0;34m,\u001b[0m\u001b[0mcell_ID\u001b[0m\u001b[0;34m,\u001b[0m\u001b[0mfrequencies\u001b[0m\u001b[0;34m,\u001b[0m\u001b[0mintensities\u001b[0m\u001b[0;34m)\u001b[0m\u001b[0;34m\u001b[0m\u001b[0;34m\u001b[0m\u001b[0m\n\u001b[0m\u001b[1;32m      7\u001b[0m \u001b[0;31m# get_cell_tuning_by_peak(cell_dictionary[cell_ID]['traces'],True)\u001b[0m\u001b[0;34m\u001b[0m\u001b[0;34m\u001b[0m\u001b[0;34m\u001b[0m\u001b[0m\n\u001b[1;32m      8\u001b[0m \u001b[0mplot_tuning_traces\u001b[0m\u001b[0;34m(\u001b[0m\u001b[0mcell_dictionary\u001b[0m\u001b[0;34m[\u001b[0m\u001b[0mcell_ID\u001b[0m\u001b[0;34m]\u001b[0m\u001b[0;34m[\u001b[0m\u001b[0;34m'traces'\u001b[0m\u001b[0;34m]\u001b[0m\u001b[0;34m,\u001b[0m\u001b[0;36m12\u001b[0m\u001b[0;34m,\u001b[0m\u001b[0;36m4\u001b[0m\u001b[0;34m,\u001b[0m\u001b[0;36m1300\u001b[0m\u001b[0;34m)\u001b[0m\u001b[0;34m\u001b[0m\u001b[0;34m\u001b[0m\u001b[0m\n",
      "\u001b[0;32m<ipython-input-15-9b33fb3431aa>\u001b[0m in \u001b[0;36mplot_single_tuning_curve\u001b[0;34m(cell_tuning, cell_ID, frequencies, intensities)\u001b[0m\n\u001b[1;32m     10\u001b[0m         \u001b[0;31m# only show a label for every second frequency\u001b[0m\u001b[0;34m\u001b[0m\u001b[0;34m\u001b[0m\u001b[0;34m\u001b[0m\u001b[0m\n\u001b[1;32m     11\u001b[0m         \u001b[0max\u001b[0m\u001b[0;34m.\u001b[0m\u001b[0mset_xticks\u001b[0m\u001b[0;34m(\u001b[0m\u001b[0mrange\u001b[0m\u001b[0;34m(\u001b[0m\u001b[0;36m0\u001b[0m\u001b[0;34m,\u001b[0m\u001b[0mlen\u001b[0m\u001b[0;34m(\u001b[0m\u001b[0mfrequencies\u001b[0m\u001b[0;34m)\u001b[0m\u001b[0;34m,\u001b[0m\u001b[0;36m2\u001b[0m\u001b[0;34m)\u001b[0m\u001b[0;34m)\u001b[0m\u001b[0;34m\u001b[0m\u001b[0;34m\u001b[0m\u001b[0m\n\u001b[0;32m---> 12\u001b[0;31m         \u001b[0max\u001b[0m\u001b[0;34m.\u001b[0m\u001b[0mset_xticklabels\u001b[0m\u001b[0;34m(\u001b[0m\u001b[0mfrequencies\u001b[0m\u001b[0;34m[\u001b[0m\u001b[0mrange\u001b[0m\u001b[0;34m(\u001b[0m\u001b[0;36m0\u001b[0m\u001b[0;34m,\u001b[0m\u001b[0mlen\u001b[0m\u001b[0;34m(\u001b[0m\u001b[0mfrequencies\u001b[0m\u001b[0;34m)\u001b[0m\u001b[0;34m,\u001b[0m\u001b[0;36m2\u001b[0m\u001b[0;34m)\u001b[0m\u001b[0;34m]\u001b[0m\u001b[0;34m)\u001b[0m\u001b[0;34m\u001b[0m\u001b[0;34m\u001b[0m\u001b[0m\n\u001b[0m\u001b[1;32m     13\u001b[0m     \u001b[0;32melse\u001b[0m\u001b[0;34m:\u001b[0m\u001b[0;34m\u001b[0m\u001b[0;34m\u001b[0m\u001b[0m\n\u001b[1;32m     14\u001b[0m         \u001b[0;31m# otherwise show every frequency label\u001b[0m\u001b[0;34m\u001b[0m\u001b[0;34m\u001b[0m\u001b[0;34m\u001b[0m\u001b[0m\n",
      "\u001b[0;31mTypeError\u001b[0m: list indices must be integers or slices, not range"
     ]
    },
    {
     "data": {
      "image/png": "[encoded data removed]",
      "text/plain": [
       "<Figure size 432x288 with 2 Axes>"
      ]
     },
     "metadata": {},
     "output_type": "display_data"
    }
   ],
   "source": [
    "\n",
    "cell_ID = 327\n",
    "print(cell_dictionary[cell_ID]['active'])\n",
    "frequencies = list(cell_dictionary[cell_ID]['traces'].keys())\n",
    "intensities = list(cell_dictionary[cell_ID]['traces'][frequencies[0]].keys())\n",
    "plot_single_tuning_curve(cell_dictionary[cell_ID]['tuning'],cell_ID,frequencies,intensities)\n",
    "# get_cell_tuning_by_peak(cell_dictionary[cell_ID]['traces'],True)\n",
    "plot_tuning_traces(cell_dictionary[cell_ID]['traces'],12,4,1300)"
   ]
  },
  {
   "cell_type": "code",
   "execution_count": null,
   "metadata": {},
   "outputs": [],
   "source": []
  }
 ],
 "metadata": {
  "kernelspec": {
   "display_name": "Python 2.7.17 ('2p_venv': venv)",
   "language": "python",
   "name": "python3"
  },
  "language_info": {
   "codemirror_mode": {
    "name": "ipython",
    "version": 3
   },
   "file_extension": ".py",
   "mimetype": "text/x-python",
   "name": "python",
   "nbconvert_exporter": "python",
   "pygments_lexer": "ipython3",
   "version": "3.6.9"
  },
  "orig_nbformat": 4,
  "vscode": {
   "interpreter": {
    "hash": "872ec5d3a98eaebd43d4cc435e23abf322938afc9cf76faa52c478ec25a89a60"
   }
  }
 },
 "nbformat": 4,
 "nbformat_minor": 2
}
