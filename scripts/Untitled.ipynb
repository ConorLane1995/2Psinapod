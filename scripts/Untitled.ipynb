{
 "cells": [
  {
   "cell_type": "code",
   "execution_count": 1,
   "id": "e1437ed0",
   "metadata": {},
   "outputs": [],
   "source": [
    "import numpy as np\n",
    "import pickle"
   ]
  },
  {
   "cell_type": "code",
   "execution_count": 2,
   "id": "4a3915ce",
   "metadata": {},
   "outputs": [],
   "source": [
    "BASE_PATH = \"D:/vid127_pseudorandom_stim/\"\n",
    "stim_path = \"Stim_Data_PseudoRandom_vid127.npy\"\n",
    "epoched_rec_path = \"epoched_F.npy\"\n",
    "output_file = \"cell_traces_with_stims.pkl\""
   ]
  },
  {
   "cell_type": "code",
   "execution_count": 3,
   "id": "dba3c7d8",
   "metadata": {},
   "outputs": [],
   "source": [
    "traces = np.load(BASE_PATH + epoched_rec_path,allow_pickle=True)"
   ]
  },
  {
   "cell_type": "code",
   "execution_count": 4,
   "id": "0e48f397",
   "metadata": {},
   "outputs": [
    {
     "data": {
      "text/plain": [
       "277"
      ]
     },
     "execution_count": 4,
     "metadata": {},
     "output_type": "execute_result"
    }
   ],
   "source": [
    "len(traces)"
   ]
  },
  {
   "cell_type": "code",
   "execution_count": 5,
   "id": "a00b45ef",
   "metadata": {},
   "outputs": [
    {
     "data": {
      "text/plain": [
       "35"
      ]
     },
     "execution_count": 5,
     "metadata": {},
     "output_type": "execute_result"
    }
   ],
   "source": [
    "len(traces[0])"
   ]
  },
  {
   "cell_type": "code",
   "execution_count": 6,
   "id": "7af889a3",
   "metadata": {},
   "outputs": [],
   "source": [
    "with open(BASE_PATH + output_file, 'rb') as f:\n",
    "        formatted_traces = pickle.load(f)"
   ]
  },
  {
   "cell_type": "code",
   "execution_count": 7,
   "id": "b9b6b24d",
   "metadata": {},
   "outputs": [
    {
     "data": {
      "text/plain": [
       "277"
      ]
     },
     "execution_count": 7,
     "metadata": {},
     "output_type": "execute_result"
    }
   ],
   "source": [
    "len(traces)"
   ]
  },
  {
   "cell_type": "code",
   "execution_count": null,
   "id": "1658c987",
   "metadata": {},
   "outputs": [],
   "source": []
  }
 ],
 "metadata": {
  "kernelspec": {
   "display_name": "Python 3 (ipykernel)",
   "language": "python",
   "name": "python3"
  },
  "language_info": {
   "codemirror_mode": {
    "name": "ipython",
    "version": 3
   },
   "file_extension": ".py",
   "mimetype": "text/x-python",
   "name": "python",
   "nbconvert_exporter": "python",
   "pygments_lexer": "ipython3",
   "version": "3.8.2"
  }
 },
 "nbformat": 4,
 "nbformat_minor": 5
}
