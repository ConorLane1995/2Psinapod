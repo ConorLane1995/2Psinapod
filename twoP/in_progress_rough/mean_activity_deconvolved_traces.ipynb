{
 "cells": [
  {
   "cell_type": "code",
   "execution_count": null,
   "metadata": {},
   "outputs": [],
   "source": [
    "'''\n",
    "Author: Conor Lane, February 2024\n",
    "Email: conor.lane1995@gmail.com\n",
    "\n",
    "Takes all of the trials for a given cell's deconvolved activity and computes a single mean value that can be used as a relative measure of cell activity. \n",
    "Input, dell dictionary from epoch_recording.py, with ['Active'] Boollean obtained from running find_active_cells_ANOVA.py\n",
    "\n",
    "'''"
   ]
  },
  {
   "cell_type": "code",
   "execution_count": 134,
   "metadata": {},
   "outputs": [],
   "source": [
    "import matplotlib.pyplot as plt\n",
    "import numpy as np\n",
    "import pickle\n",
    "from sklearn.metrics import pairwise_distances\n",
    "from sklearn.preprocessing import StandardScaler\n",
    "import scipy.cluster.hierarchy as spc\n",
    "from mpl_toolkits.mplot3d import Axes3D\n",
    "\n",
    "n_baseline_frames = 5"
   ]
  },
  {
   "cell_type": "code",
   "execution_count": 135,
   "metadata": {},
   "outputs": [],
   "source": [
    "def get_active_cells(deconvolved_traces):\n",
    "\n",
    "    # going to return a dictionary with only active cells, formatted exactly the same as traces\n",
    "\n",
    "    d = dict.fromkeys(deconvolved_traces.keys())\n",
    "\n",
    "    for cell in deconvolved_traces:\n",
    "        if deconvolved_traces[cell]['active'] == True:\n",
    "            d[cell] = deconvolved_traces[cell]\n",
    "        else:\n",
    "            d.pop(cell,None)\n",
    "\n",
    "    return d"
   ]
  },
  {
   "cell_type": "code",
   "execution_count": 137,
   "metadata": {},
   "outputs": [
    {
     "name": "stdout",
     "output_type": "stream",
     "text": [
      "dict_keys([1, 2, 3, 4, 5, 6, 7, 8, 10, 11, 12, 13, 14, 16, 17, 18, 19, 20, 21, 22, 23, 24, 25, 26, 27, 28, 29, 30, 31, 32, 33, 34, 35, 36, 37, 38, 39, 41, 42, 43, 44, 45, 46, 47, 48, 49, 50, 51, 52, 53, 54, 55, 56, 57, 58, 59, 60, 61, 62, 63, 64, 65, 66, 67, 68, 69, 70, 71, 72, 73, 74, 75, 76, 77, 78, 79, 80, 81, 82, 84, 85, 86, 87, 88, 89, 90, 91, 92, 93, 94, 95, 96, 97, 98, 99, 100, 101, 103, 104, 105, 106, 108, 109, 110, 111, 112, 113, 114, 115, 116, 117, 119, 120, 121, 124, 125, 126, 128, 129, 130, 131, 132, 135, 136, 137, 138, 139, 140, 142, 143, 145, 146, 147, 149, 153, 154, 155, 156, 158, 159, 161, 162, 163, 167, 169, 170, 171, 172, 173, 174, 176, 177, 178, 179, 180, 181, 182, 186, 187, 188, 190, 191, 192, 193, 194, 195, 196, 197, 198, 202, 204, 205, 206, 207, 208, 209, 210, 212, 213, 217, 218, 219, 220, 221, 224, 225, 226, 227, 229, 230, 231, 232, 234, 235, 237, 238, 239, 240, 241, 243, 244, 245, 246, 247, 248, 249, 251, 253, 255, 256, 259, 261, 262, 264, 265, 267, 271, 274, 275, 277, 279, 280, 281, 282, 283, 284, 286, 288, 289, 291, 292, 294, 296, 297, 298, 299, 302, 304, 305, 307, 310, 311, 313, 314, 316, 320, 321, 323, 326, 327, 330, 331, 332, 333, 334, 335, 336, 339, 342, 343, 344, 345, 346, 347, 350, 352, 354, 355, 356, 357, 361, 362, 363, 364, 365, 366, 368, 369, 373, 376, 381, 383, 384, 386, 388, 392, 393, 394, 395, 396, 398, 400, 402, 404, 407, 408, 412, 413, 416, 421, 423, 426, 429, 432, 435, 436, 439, 443, 447, 448, 452, 453, 456, 458, 459, 461, 463, 464, 466, 467, 468, 469, 474, 479, 480, 483, 489, 491, 494, 495, 496, 500, 504, 505, 507, 512, 515, 518, 520, 524, 533, 535, 541, 542, 543, 546, 547, 552, 555, 556, 557, 559, 560, 563, 565, 567, 569, 571, 572, 576, 584, 587, 588, 595, 602, 607, 608, 610, 618, 619, 623, 629, 633, 635, 642, 647, 659, 666, 685, 687, 690, 692, 695, 700, 703, 720, 722, 728, 732, 735, 740, 743, 746, 747, 754, 761, 764, 772, 774, 775, 803, 817, 828, 832, 851, 852, 858, 871, 873, 998, 1022, 1224])\n"
     ]
    }
   ],
   "source": [
    "# Input the filepath of the cell dictionary.  Opens the dict and displays the keys for an example cell. \n",
    "cell = \"F:/Two-Photon/Psilocybin Project/Evoked Cohort Mice/ID237/12122022_GCaMP6s_ID237_psilo/TSeries-12122022-1307-033/suite2p/plane0/cells.pkl\"\n",
    "\n",
    "with open(cell,'rb') as f:\n",
    "    cell_dict_1 = pickle.load(f)\n",
    "\n",
    "print(cell_dict_1.keys())"
   ]
  },
  {
   "cell_type": "code",
   "execution_count": 138,
   "metadata": {},
   "outputs": [
    {
     "name": "stdout",
     "output_type": "stream",
     "text": [
      "82\n",
      "[4364, 5371, 6612, 8140, 10020, 12335, 15184, 18691, 23009, 28324, 34867, 42922] [35, 50, 65, 80] [1, 2, 3, 4, 5, 6, 7, 8, 9, 10]\n",
      "0.27760914967277794\n"
     ]
    }
   ],
   "source": [
    "# Get only the cells in the dictionary where Boollean \"Active == True\"\n",
    "active = get_active_cells(cell_dict_1)\n",
    "print(len(active.keys()))\n",
    "\n",
    "# Get Information about the active cells. Returns Cell ID's in a list, Prints Presented Frequencies and Intensities, and the number of trials presented\n",
    "# per combination. \n",
    "cell_list = list(active.keys())\n",
    "nfreq = list(active[cell_list[0]]['deconvolved_traces'].keys())\n",
    "nInt = list(active[cell_list[0]]['deconvolved_traces'][nfreq[0]].keys())\n",
    "ntrial = list(active[cell_list[0]]['deconvolved_traces'][nfreq[0]][nInt[0]].keys())\n",
    "print(nfreq, nInt, ntrial)\n",
    "\n",
    "# For each cell, extracts the trial matrix and baseline corrects all the trials (computes a single baseline from all trial pre-stim periods and subtracts)\n",
    "# Stores this in matrix_all_corrected.\n",
    "matrix_all_corrected = []\n",
    "for cell in active.keys():\n",
    "    matrix_cell = np.array([[[active[cell]['deconvolved_traces'][i][j][k] for k in ntrial] for j in nInt] for i in nfreq])\n",
    "    baseline = np.average(matrix_cell[:,:,:,:n_baseline_frames])\n",
    "    baseline_subtracted = matrix_cell - baseline\n",
    "    matrix_all_corrected.append(baseline_subtracted)\n",
    "\n",
    "matrix_all_corrected = np.array(matrix_all_corrected)\n",
    "\n",
    "# Flattens the matrix so that all trials are arrayed out equally -  takes shape (nFrames_total x NFrames_trial e.g. 7200,15)\n",
    "matrix_flatten = (matrix_all_corrected).reshape(-1,len(matrix_all_corrected[:,0,0,0,0]))    \n",
    "\n",
    "#\n",
    "means = []\n",
    "for i in range(0,len(matrix_flatten[0,:])):\n",
    "    deconvolved_mean = np.mean(matrix_flatten[:,i])\n",
    "    means.append(deconvolved_mean)\n",
    "\n",
    "print(np.mean(means))\n",
    "\n",
    "\n"
   ]
  }
 ],
 "metadata": {
  "kernelspec": {
   "display_name": "Python 3",
   "language": "python",
   "name": "python3"
  },
  "language_info": {
   "codemirror_mode": {
    "name": "ipython",
    "version": 3
   },
   "file_extension": ".py",
   "mimetype": "text/x-python",
   "name": "python",
   "nbconvert_exporter": "python",
   "pygments_lexer": "ipython3",
   "version": "3.9.13"
  },
  "orig_nbformat": 4
 },
 "nbformat": 4,
 "nbformat_minor": 2
}
