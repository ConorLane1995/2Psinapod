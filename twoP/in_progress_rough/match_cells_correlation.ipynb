{
 "cells": [
  {
   "cell_type": "code",
   "execution_count": 4,
   "metadata": {},
   "outputs": [
    {
     "data": {
      "text/plain": [
       "\"\\nAuthor: Conor Lane, April 2023. contact conor.lane1995@gmail.com\\nScript to match the suite2P detected cells across two recordings.  \\nInputs: Suite2P Fneu.npy and iscell.npy outputs for the first analyzed recording (recording_1, iscell_1) and the combined recording 1 and 2 suite2P output.\\nPerforms pairwise correlation on cells of recording 1 and first half of combined trace to match up cells between recordings. \\nOutputs: Dataframe containing the list of ROI numbers detected as cells, (Note: zero-indexing, doesn't start at 1) matched with the second recording.  \\n\\n\""
      ]
     },
     "execution_count": 4,
     "metadata": {},
     "output_type": "execute_result"
    }
   ],
   "source": [
    "'''\n",
    "Author: Conor Lane, April 2023. contact conor.lane1995@gmail.com\n",
    "Script to match the suite2P detected cells across two recordings.  \n",
    "Inputs: Suite2P Fneu.npy and iscell.npy outputs for the first analyzed recording (recording_1, iscell_1) and the combined recording 1 and 2 suite2P output.\n",
    "Performs pairwise correlation on cells of recording 1 and first half of combined trace to match up cells between recordings. \n",
    "Outputs: Dataframe containing the list of ROI numbers detected as cells, (Note: zero-indexing, doesn't start at 1) matched with the second recording.  \n",
    "\n",
    "'''"
   ]
  },
  {
   "cell_type": "code",
   "execution_count": 5,
   "metadata": {},
   "outputs": [],
   "source": [
    "import numpy as np\n",
    "import sklearn.metrics as sklearn\n",
    "import pandas as pd\n",
    "\n",
    "#Input desired threshold for classing cells as sufficiently correlated.  Input length of each recording in frames. \n",
    "pairwise_threshold = 0.9\n",
    "rec_length_in_frames = 9000"
   ]
  },
  {
   "cell_type": "code",
   "execution_count": 6,
   "metadata": {},
   "outputs": [
    {
     "ename": "FileNotFoundError",
     "evalue": "[Errno 2] No such file or directory: 'C:/Users/Conor/Documents/Imaging_Data/Two-Photon/Psilocybin_Project/Evoked_Cohort_Mice/ID276/ID276_07032023_Psilocybin/Combined/suite2p/plane0/Fneu.npy'",
     "output_type": "error",
     "traceback": [
      "\u001b[1;31m---------------------------------------------------------------------------\u001b[0m",
      "\u001b[1;31mFileNotFoundError\u001b[0m                         Traceback (most recent call last)",
      "Cell \u001b[1;32mIn[6], line 10\u001b[0m\n\u001b[0;32m      7\u001b[0m cells_bool_1 \u001b[39m=\u001b[39m np\u001b[39m.\u001b[39mload(iscell_1)\n\u001b[0;32m      9\u001b[0m recording_2 \u001b[39m=\u001b[39m \u001b[39m\"\u001b[39m\u001b[39mC:/Users/Conor/Documents/Imaging_Data/Two-Photon/Psilocybin_Project/Evoked_Cohort_Mice/ID276/ID276_07032023_Psilocybin/Combined/suite2p/plane0/Fneu.npy\u001b[39m\u001b[39m\"\u001b[39m\n\u001b[1;32m---> 10\u001b[0m traces_2 \u001b[39m=\u001b[39m np\u001b[39m.\u001b[39;49mload(recording_2)\n\u001b[0;32m     11\u001b[0m iscell_2 \u001b[39m=\u001b[39m \u001b[39m\"\u001b[39m\u001b[39mC:/Users/Conor/Documents/Imaging_Data/Two-Photon/Psilocybin_Project/Evoked_Cohort_Mice/ID276/ID276_07032023_Psilocybin/Combined/suite2p/plane0/iscell.npy\u001b[39m\u001b[39m\"\u001b[39m\n\u001b[0;32m     12\u001b[0m cells_bool_2 \u001b[39m=\u001b[39m np\u001b[39m.\u001b[39mload(iscell_2)\n",
      "File \u001b[1;32m~\\AppData\\Local\\Packages\\PythonSoftwareFoundation.Python.3.9_qbz5n2kfra8p0\\LocalCache\\local-packages\\Python39\\site-packages\\numpy\\lib\\npyio.py:390\u001b[0m, in \u001b[0;36mload\u001b[1;34m(file, mmap_mode, allow_pickle, fix_imports, encoding)\u001b[0m\n\u001b[0;32m    388\u001b[0m     own_fid \u001b[39m=\u001b[39m \u001b[39mFalse\u001b[39;00m\n\u001b[0;32m    389\u001b[0m \u001b[39melse\u001b[39;00m:\n\u001b[1;32m--> 390\u001b[0m     fid \u001b[39m=\u001b[39m stack\u001b[39m.\u001b[39menter_context(\u001b[39mopen\u001b[39;49m(os_fspath(file), \u001b[39m\"\u001b[39;49m\u001b[39mrb\u001b[39;49m\u001b[39m\"\u001b[39;49m))\n\u001b[0;32m    391\u001b[0m     own_fid \u001b[39m=\u001b[39m \u001b[39mTrue\u001b[39;00m\n\u001b[0;32m    393\u001b[0m \u001b[39m# Code to distinguish from NumPy binary files and pickles.\u001b[39;00m\n",
      "\u001b[1;31mFileNotFoundError\u001b[0m: [Errno 2] No such file or directory: 'C:/Users/Conor/Documents/Imaging_Data/Two-Photon/Psilocybin_Project/Evoked_Cohort_Mice/ID276/ID276_07032023_Psilocybin/Combined/suite2p/plane0/Fneu.npy'"
     ]
    }
   ],
   "source": [
    "#Load the required files directtly - recording_1 is the first recording, recording_2 is the combined 1 & 2 suite2P output.  iscell.npy 1 and 2 are for the same suite2P\n",
    "# outputs, relatively.\n",
    "\n",
    "recording_1 = \"C:/Users/Conor/Documents/Imaging_Data/Two-Photon/Psilocybin_Project/Evoked_Cohort_Mice/ID276/ID276_07032023_Psilocybin/TSeries-03072023-1303-063/suite2p/plane0/Fneu.npy\"\n",
    "traces_1 = np.load(recording_1)\n",
    "iscell_1 = \"C:/Users/Conor/Documents/Imaging_Data/Two-Photon/Psilocybin_Project/Evoked_Cohort_Mice/ID276/ID276_07032023_Psilocybin/TSeries-03072023-1303-063/suite2p/plane0/iscell.npy\"\n",
    "cells_bool_1 = np.load(iscell_1)\n",
    "\n",
    "recording_2 = \"C:/Users/Conor/Documents/Imaging_Data/Two-Photon/Psilocybin_Project/Evoked_Cohort_Mice/ID276/ID276_07032023_Psilocybin/Combined/suite2p/plane0/Fneu.npy\"\n",
    "traces_2 = np.load(recording_2)\n",
    "iscell_2 = \"C:/Users/Conor/Documents/Imaging_Data/Two-Photon/Psilocybin_Project/Evoked_Cohort_Mice/ID276/ID276_07032023_Psilocybin/Combined/suite2p/plane0/iscell.npy\"\n",
    "cells_bool_2 = np.load(iscell_2)\n",
    "save_loc = \"C:/Users/Conor/Documents/Imaging_Data/Two-Photon/Psilocybin_Project/Evoked_Cohort_Mice/ID276/ID276_07032023_Psilocybin/Combined/suite2p/plane0/\""
   ]
  },
  {
   "cell_type": "code",
   "execution_count": null,
   "metadata": {},
   "outputs": [],
   "source": [
    "# Extract the index positions of detected cells from the first Fneu.npy output.  Used later to match correct cell numbers with rec_2 matches.\n",
    "\n",
    "df = pd.DataFrame(cells_bool_1)\n",
    "df = df[df[0]==1].reset_index()\n",
    "df['cell_number_rec1'] = df['index']\n"
   ]
  },
  {
   "cell_type": "code",
   "execution_count": null,
   "metadata": {},
   "outputs": [],
   "source": [
    "# Extract the ROIs from both traces that suite2P detected as cells\n",
    "cells_1 = traces_1[cells_bool_1[:,0]==1]\n",
    "cells_2 = traces_2[cells_bool_2[:,0]==1]\n",
    "\n",
    "\n",
    "# Take only the first half of the combined trace for each cell (this is recording 1)\n",
    "cells_2 = np.array([cells_2[cell][:rec_length_in_frames] for cell in range(len(cells_2))])\n",
    "\n"
   ]
  },
  {
   "cell_type": "code",
   "execution_count": null,
   "metadata": {},
   "outputs": [],
   "source": [
    "# Run pairwise correlation on the first recording's cells, against the first half of the combined recording.\n",
    "\n",
    "pairwise = 1-sklearn.pairwise_distances(cells_1,cells_2, metric='correlation')"
   ]
  },
  {
   "cell_type": "code",
   "execution_count": null,
   "metadata": {},
   "outputs": [
    {
     "name": "stdout",
     "output_type": "stream",
     "text": [
      "0.6313559322033898\n"
     ]
    }
   ],
   "source": [
    "#Find indices for day 2 (the cell in rec_2 that is most correlated with each rec_1 cell)\n",
    "idx2 = pairwise.argmax(axis=1)\n",
    "\n",
    "# Produces a boolean array for each cell's most correlated cell and whether it meets the threshold\n",
    "mask2 = pairwise.max(axis=1) >= pairwise_threshold\n",
    "\n",
    "\n",
    "#Print the percentage of matched cells\n",
    "print(mask2.sum()/mask2.shape[0])\n",
    "\n",
    "# Select only the indexes of the cells where the match was above threshold.\n",
    "cell_matches = idx2[mask2==True]\n",
    "cell_matched_1 =np.array(df['cell_number_rec1'])\n",
    "cell_matched_1 = cell_matched_1[mask2==True]\n"
   ]
  },
  {
   "cell_type": "code",
   "execution_count": null,
   "metadata": {},
   "outputs": [],
   "source": [
    "# Place the cells from recording 1 and their recording 2 matches into a DataFrame for neatness. \n",
    "\n",
    "cleaned_up = pd.DataFrame(columns=['cells_rec_1','cells_rec_2'])\n",
    "cleaned_up['cells_rec_2'] = cell_matches.tolist()\n",
    "cleaned_up['cells_rec_1'] = cell_matched_1\n",
    "print(cleaned_up)"
   ]
  },
  {
   "cell_type": "code",
   "execution_count": null,
   "metadata": {},
   "outputs": [
    {
     "name": "stdout",
     "output_type": "stream",
     "text": [
      "     cells_rec_1  cells_rec_2\n",
      "0              1            3\n",
      "1              3           16\n",
      "2              4            8\n",
      "3              5            6\n",
      "4              6            2\n",
      "..           ...          ...\n",
      "442         1577          521\n",
      "443         1579          744\n",
      "444         1631          752\n",
      "445         1632          765\n",
      "446         2058          766\n",
      "\n",
      "[447 rows x 2 columns]\n"
     ]
    }
   ],
   "source": [
    "#Optional: convert dataframe into cell numbers for use in the other scripts. Note, every cell is now one number higher than its suite2p output. \n",
    "matched_cell_numbers = cleaned_up + 1\n",
    "print(matched_cell_numbers)\n",
    "matched_cell_numbers.to_csv(save_loc + \"matched_cell_numbers.csv\")"
   ]
  }
 ],
 "metadata": {
  "kernelspec": {
   "display_name": "Python 3",
   "language": "python",
   "name": "python3"
  },
  "language_info": {
   "codemirror_mode": {
    "name": "ipython",
    "version": 3
   },
   "file_extension": ".py",
   "mimetype": "text/x-python",
   "name": "python",
   "nbconvert_exporter": "python",
   "pygments_lexer": "ipython3",
   "version": "3.9.13"
  },
  "orig_nbformat": 4,
  "vscode": {
   "interpreter": {
    "hash": "ee80ea69155a158f2e67fe37e016c42c7d03cbd6e8fb3a3ca6dcf814bb75c6fe"
   }
  }
 },
 "nbformat": 4,
 "nbformat_minor": 2
}
