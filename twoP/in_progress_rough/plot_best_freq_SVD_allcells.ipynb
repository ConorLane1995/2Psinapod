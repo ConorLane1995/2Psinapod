{
 "cells": [
  {
   "cell_type": "code",
   "execution_count": 35,
   "metadata": {},
   "outputs": [],
   "source": [
    "import matplotlib.pyplot as plt\n",
    "import numpy as np\n",
    "import pickle\n",
    "from sklearn.metrics import pairwise_distances\n",
    "import pandas as pd\n",
    "import scipy.stats as ss\n",
    "import seaborn as sns\n",
    "from scipy.stats import entropy\n",
    "\n",
    "z_thresh = 4"
   ]
  },
  {
   "cell_type": "code",
   "execution_count": 2,
   "metadata": {},
   "outputs": [],
   "source": [
    "# Load all required files for the psilocybin recording day\n",
    "\n",
    "saline_1_184 = \"C:/Users/Conor/Documents/Imaging_Data/Two-Photon/Psilocybin_Project/Evoked_Cohort_Mice/ID184/11282022_GCaMP6s_ID184_saline/TSeries-11282022-0011-023/suite2p/plane0/cells.pkl\"\n",
    "saline_2_184 = \"C:/Users/Conor/Documents/Imaging_Data/Two-Photon/Psilocybin_Project/Evoked_Cohort_Mice/ID184/11282022_GCaMP6s_ID184_saline/TSeries-11282022-0011-025/suite2p/plane0/cells.pkl\"\n",
    "\n",
    "saline_1_186 = \"C:/Users/Conor/Documents/Imaging_Data/Two-Photon/Psilocybin_Project/Evoked_Cohort_Mice/ID186/11242022_GCaMP6s_ID186_saline/TSeries-11222022-1228-021/suite2p/plane0/cells.pkl\"\n",
    "saline_2_186 = \"C:/Users/Conor/Documents/Imaging_Data/Two-Photon/Psilocybin_Project/Evoked_Cohort_Mice/ID186/11242022_GCaMP6s_ID186_saline/TSeries-11222022-1228-022/suite2p/plane0/cells.pkl\"\n",
    "\n",
    "saline_1_237 = \"C:/Users/Conor/Documents/Imaging_Data/Two-Photon/Psilocybin_Project/Evoked_Cohort_Mice/ID237/12082022_GCaMP6s_ID237_saline/TSeries-12082022-1143-031/suite2p/plane0/cells.pkl\"\n",
    "saline_2_237 = \"C:/Users/Conor/Documents/Imaging_Data/Two-Photon/Psilocybin_Project/Evoked_Cohort_Mice/ID237/12082022_GCaMP6s_ID237_saline/TSeries-12082022-1143-032/suite2p/plane0/cells.pkl\"\n",
    "\n",
    "saline_1_239 = \"C:/Users/Conor/Documents/Imaging_Data/Two-Photon/Psilocybin_Project/Evoked_Cohort_Mice/ID239/01132023_ID239_saline/TSeries-01122023-1243-038/suite2p/plane0/cells.pkl\"\n",
    "saline_2_239 = \"C:/Users/Conor/Documents/Imaging_Data/Two-Photon/Psilocybin_Project/Evoked_Cohort_Mice/ID239/01132023_ID239_saline/TSeries-01122023-1243-039/suite2p/plane0/cells.pkl\"\n",
    "\n",
    "saline_1_251 = \"C:/Users/Conor/Documents/Imaging_Data/Two-Photon/Psilocybin_Project/Evoked_Cohort_Mice/ID251/ID251_13012023_saline/TSeries-01122023-1243-040/suite2p/plane0/cells.pkl\"\n",
    "saline_2_251 = \"C:/Users/Conor/Documents/Imaging_Data/Two-Photon/Psilocybin_Project/Evoked_Cohort_Mice/ID251/ID251_13012023_saline/TSeries-01122023-1243-041/suite2p/plane0/cells.pkl\"\n",
    "\n",
    "saline_1_269 = \"C:/Users/Conor/Documents/Imaging_Data/Two-Photon/Psilocybin_Project/Evoked_Cohort_Mice/ID269/ID269_06032023_saline/TSeries-03062023-1216-061/suite2p/plane0/cells.pkl\"\n",
    "saline_2_269 = \"C:/Users/Conor/Documents/Imaging_Data/Two-Photon/Psilocybin_Project/Evoked_Cohort_Mice/ID269/ID269_06032023_saline/TSeries-03062023-1216-062/suite2p/plane0/cells.pkl\"\n",
    "\n",
    "saline_1_276 = \"C:/Users/Conor/Documents/Imaging_Data/Two-Photon/Psilocybin_Project/Evoked_Cohort_Mice/ID276/ID276_03032023_saline/TSeries-03032023-1447-059/suite2p/plane0/cells.pkl\"\n",
    "saline_2_276 = \"C:/Users/Conor/Documents/Imaging_Data/Two-Photon/Psilocybin_Project/Evoked_Cohort_Mice/ID276/ID276_03032023_saline/TSeries-03032023-1447-060/suite2p/plane0/cells.pkl\"\n",
    "\n",
    "# saline_1_473 = \"F:/Two-Photon/Psilocybin Project/Evoked Cohort Mice/ID473/saline/TSeries-01142009-2331-135/suite2p/plane0/cells.pkl\"\n",
    "# saline_2_473 = \"F:/Two-Photon/Psilocybin Project/Evoked Cohort Mice/ID473/saline/TSeries-01142009-2331-136/suite2p/plane0/cells.pkl\"\n",
    "\n",
    "# saline_1_474 = \"F:/Two-Photon/Psilocybin Project/Evoked Cohort Mice/ID474/saline/TSeries-01142009-2331-137/suite2p/plane0/cells.pkl\"\n",
    "# saline_2_474 = \"F:/Two-Photon/Psilocybin Project/Evoked Cohort Mice/ID474/saline/TSeries-01142009-2331-138/suite2p/plane0/cells.pkl\"\n",
    "\n",
    "all_dicts_saline_1 = [saline_1_184,saline_1_186,saline_1_237,saline_1_239,saline_1_251,saline_1_269,saline_1_276]\n",
    "all_dicts_saline_2 = [saline_2_184,saline_2_186,saline_2_237,saline_2_239,saline_2_251,saline_2_269,saline_2_276]\n",
    "all_dicts_saline_1_str = [\"saline_1_184\",\"saline_1_186\",\"saline_1_237\",\"saline_1_239\",\"saline_1_251\",\"saline_1_269\",\"saline_1_276\"]\n",
    "all_dicts_saline_2_str =  [\"saline_2_184\",\"saline_2_186\",\"saline_2_237\",\"saline_2_239\",\"saline_2_251\",\"saline_2_269\",\"saline_2_276\"]\n",
    "saline_dict_1 ={}\n",
    "saline_dict_2 = {}\n",
    "\n",
    "for file in all_dicts_saline_1_str:\n",
    "    saline_dict_1[file]=None\n",
    "\n",
    "for file in all_dicts_saline_2_str:\n",
    "    saline_dict_2[file] = None\n",
    "\n",
    "zippedsaline = zip(all_dicts_saline_1, all_dicts_saline_1_str)\n",
    "for k,v in zippedsaline:\n",
    "    with open(k,'rb') as f:\n",
    "        saline_dict_1[v] = pickle.load(f)\n",
    "\n",
    "zippedpsilo = zip(all_dicts_saline_2, all_dicts_saline_2_str)\n",
    "for k,v in zippedpsilo:\n",
    "    with open(k,'rb') as f:\n",
    "        saline_dict_2[v] = pickle.load(f)"
   ]
  },
  {
   "cell_type": "code",
   "execution_count": 3,
   "metadata": {},
   "outputs": [
    {
     "name": "stdout",
     "output_type": "stream",
     "text": [
      "dict_keys(['saline_1_184', 'saline_1_186', 'saline_1_237', 'saline_1_239', 'saline_1_251', 'saline_1_269', 'saline_1_276'])\n"
     ]
    }
   ],
   "source": [
    "print(saline_dict_1.keys())"
   ]
  },
  {
   "cell_type": "code",
   "execution_count": 25,
   "metadata": {},
   "outputs": [
    {
     "name": "stdout",
     "output_type": "stream",
     "text": [
      "(3321, 12)\n",
      "(3321, 4)\n"
     ]
    }
   ],
   "source": [
    "# For all of the recordings, extract each cell, calculate the SVD of its sensitivity to each frequency, and store it in the big array. \n",
    "\n",
    "\n",
    "matrix_frequency_1 = []\n",
    "matrix_intensity_1 = []\n",
    "\n",
    "for dict in saline_dict_1.keys():\n",
    "    for key in saline_dict_1[dict].keys():\n",
    "        cell_ID = saline_dict_1[dict][key]\n",
    "        cell0 = cell_ID['traces']\n",
    "        nfreq = list(cell_ID['traces'].keys())\n",
    "        nInt = list(cell_ID['traces'][nfreq[0]].keys())\n",
    "        ntrial = list(cell_ID['traces'][nfreq[0]][nInt[0]].keys())\n",
    "\n",
    "        matrix = np.array([[[cell0[i][j][k] for k in ntrial] for j in nInt] for i in nfreq])\n",
    "            # Average the matrix across trials\n",
    "        matrix_av = matrix.mean(axis=2)\n",
    "\n",
    "        # Reshape the matrix so that the baseline mean is subtracted from the mean of the response.  \n",
    "        matrix_res = matrix_av[:,:,5:].mean(axis=-1) - matrix_av[:,:,:5].mean(axis=-1)\n",
    "\n",
    "        # Runs SVD on the reshaped matrix, calculates the percentage variance explained.  If it is below threshold, moves onto next iteration.\n",
    "        U, S, Vt = np.linalg.svd(matrix_res)\n",
    "        S = S**2/(S**2).sum()\n",
    "\n",
    "        # matrix_all.append(U[:,0].reshape(-1,1) @ Vt[0,:].reshape(1,-1))\n",
    "        matrix_frequency_1.append(np.abs(U[:,0]))\n",
    "        matrix_intensity_1.append(np.abs(Vt[:,0]))\n",
    "\n",
    "matrix_frequency_1 = np.array(matrix_frequency_1)\n",
    "matrix_intensity_1 = np.array(matrix_intensity_1)\n",
    "\n",
    "print(matrix_frequency_1.shape)\n",
    "print(matrix_intensity_1.shape)"
   ]
  },
  {
   "cell_type": "code",
   "execution_count": 26,
   "metadata": {},
   "outputs": [
    {
     "name": "stdout",
     "output_type": "stream",
     "text": [
      "(2996, 12)\n",
      "(2996, 4)\n"
     ]
    }
   ],
   "source": [
    "matrix_frequency_2 = []\n",
    "matrix_intensity_2 = []\n",
    "\n",
    "for dict in saline_dict_2.keys():\n",
    "    for key in saline_dict_2[dict].keys():\n",
    "        cell_ID = saline_dict_2[dict][key]\n",
    "        cell0 = cell_ID['traces']\n",
    "        nfreq = list(cell_ID['traces'].keys())\n",
    "        nInt = list(cell_ID['traces'][nfreq[0]].keys())\n",
    "        ntrial = list(cell_ID['traces'][nfreq[0]][nInt[0]].keys())\n",
    "\n",
    "        matrix = np.array([[[cell0[i][j][k] for k in ntrial] for j in nInt] for i in nfreq])\n",
    "            # Average the matrix across trials\n",
    "        matrix_av = matrix.mean(axis=2)\n",
    "\n",
    "        # Reshape the matrix so that the baseline mean is subtracted from the mean of the response.  \n",
    "        matrix_res = matrix_av[:,:,5:].mean(axis=-1) - matrix_av[:,:,:5].mean(axis=-1)\n",
    "\n",
    "        # Runs SVD on the reshaped matrix, calculates the percentage variance explained.  If it is below threshold, moves onto next iteration.\n",
    "        U, S, Vt = np.linalg.svd(matrix_res)\n",
    "        S = S**2/(S**2).sum()\n",
    "\n",
    "        # matrix_all.append(U[:,0].reshape(-1,1) @ Vt[0,:].reshape(1,-1))\n",
    "        matrix_frequency_2.append(np.abs(U[:,0]))\n",
    "        matrix_intensity_2.append(np.abs(Vt[:,0]))\n",
    "\n",
    "matrix_frequency_2 = np.array(matrix_frequency_2)\n",
    "matrix_intensity_2 = np.array(matrix_intensity_2)\n",
    "\n",
    "print(matrix_frequency_2.shape)\n",
    "print(matrix_intensity_2.shape)"
   ]
  },
  {
   "cell_type": "code",
   "execution_count": 30,
   "metadata": {},
   "outputs": [],
   "source": [
    "best_frequency_1 = np.argmax(matrix_frequency_1, axis=1)\n",
    "best_frequency_2 = np.argmax(matrix_frequency_2, axis=1)\n",
    "\n",
    "best_frequency_1 = pd.Series(best_frequency_1)\n",
    "best_frequency_2 = pd.Series(best_frequency_2)\n",
    "\n",
    "counts_1 = best_frequency_1.value_counts(normalize=True)\n",
    "counts_2 = best_frequency_2.value_counts(normalize=True)"
   ]
  },
  {
   "cell_type": "code",
   "execution_count": 36,
   "metadata": {},
   "outputs": [
    {
     "data": {
      "image/png": "[encoded data removed]",
      "text/plain": [
       "<Figure size 800x600 with 1 Axes>"
      ]
     },
     "metadata": {},
     "output_type": "display_data"
    }
   ],
   "source": [
    "# Create a bar plot comparing the two measures\n",
    "plt.figure(figsize=(8, 6))\n",
    "plt.bar(counts_1.index, counts_1.values, color='skyblue', alpha=0.5, label='Pre-saline')\n",
    "plt.bar(counts_2.index, counts_2.values, color='orange', alpha=0.5, label='Post-saline')\n",
    "plt.xlabel('Frequency')\n",
    "plt.ylabel('Proportion')\n",
    "plt.title('Distribution of Best Frequencies Pre- and Post-saline',pad=10)\n",
    "plt.xticks(counts_1.index)\n",
    "plt.ylim(0,0.15)\n",
    "plt.legend()\n",
    "plt.tight_layout()\n",
    "plt.show()"
   ]
  },
  {
   "cell_type": "code",
   "execution_count": 38,
   "metadata": {},
   "outputs": [
    {
     "name": "stdout",
     "output_type": "stream",
     "text": [
      "KL Divergence: 0.0009677310209829635\n"
     ]
    }
   ],
   "source": [
    "# Calculate the KL divergence:\n",
    "\n",
    "kl_divergence = entropy(counts_1, counts_2)\n",
    "\n",
    "print(f\"KL Divergence: {kl_divergence}\")"
   ]
  },
  {
   "cell_type": "markdown",
   "metadata": {},
   "source": [
    "PSILOCYBIN DAY:"
   ]
  },
  {
   "cell_type": "code",
   "execution_count": 41,
   "metadata": {},
   "outputs": [],
   "source": [
    "# Load all required files for the psilocybin recording day\n",
    "\n",
    "saline_184 = \"C:/Users/Conor/Documents/Imaging_Data/Two-Photon/Psilocybin_Project/Evoked_Cohort_Mice/ID184/12052022_GCaMP6s_ID184_psilo/TSeries-01012009-0054-028/suite2p/plane0/cells.pkl\"\n",
    "psilo_184 = \"C:/Users/Conor/Documents/Imaging_Data/Two-Photon/Psilocybin_Project/Evoked_Cohort_Mice/ID184/12052022_GCaMP6s_ID184_psilo/TSeries-01012009-0054-029/suite2p/plane0/cells.pkl\"\n",
    "saline_186 = \"C:/Users/Conor/Documents/Imaging_Data/Two-Photon/Psilocybin_Project/Evoked_Cohort_Mice/ID186/12012022_GCaMP6s_ID186_psilo/TSeries-12012022-1321-026/suite2p/plane0/cells.pkl\"\n",
    "psilo_186 = \"C:/Users/Conor/Documents/Imaging_Data/Two-Photon/Psilocybin_Project/Evoked_Cohort_Mice/ID186/12012022_GCaMP6s_ID186_psilo/TSeries-12012022-1321-027/suite2p/plane0/cells.pkl\"\n",
    "saline_237 = \"C:/Users/Conor/Documents/Imaging_Data/Two-Photon/Psilocybin_Project/Evoked_Cohort_Mice/ID237/12122022_GCaMP6s_ID237_psilo/TSeries-12122022-1307-033/suite2p/plane0/cells.pkl\"\n",
    "psilo_237 = \"C:/Users/Conor/Documents/Imaging_Data/Two-Photon/Psilocybin_Project/Evoked_Cohort_Mice/ID237/12122022_GCaMP6s_ID237_psilo/TSeries-12122022-1307-034/suite2p/plane0/cells.pkl\"\n",
    "saline_239 = \"C:/Users/Conor/Documents/Imaging_Data/Two-Photon/Psilocybin_Project/Evoked_Cohort_Mice/ID239/01172023_Psilo/TSeries-01172023-1212-042/suite2p/plane0/cells.pkl\"\n",
    "psilo_239 = \"C:/Users/Conor/Documents/Imaging_Data/Two-Photon/Psilocybin_Project/Evoked_Cohort_Mice/ID239/01172023_Psilo/TSeries-01172023-1212-043/suite2p/plane0/cells.pkl\"\n",
    "saline_251 = \"C:/Users/Conor/Documents/Imaging_Data/Two-Photon/Psilocybin_Project/Evoked_Cohort_Mice/ID251/ID251_17012023_psilo/TSeries-01172023-1212-044/suite2p/plane0/cells.pkl\"\n",
    "psilo_251 = \"C:/Users/Conor/Documents/Imaging_Data/Two-Photon/Psilocybin_Project/Evoked_Cohort_Mice/ID251/ID251_17012023_psilo/TSeries-01172023-1212-045/suite2p/plane0/cells.pkl\"\n",
    "saline_269 = \"C:/Users/Conor/Documents/Imaging_Data/Two-Photon/Psilocybin_Project/Evoked_Cohort_Mice/ID269/ID269_08032023_psilocybin/TSeries-03082023-1211-065/suite2p/plane0/cells.pkl\"\n",
    "psilo_269 = \"C:/Users/Conor/Documents/Imaging_Data/Two-Photon/Psilocybin_Project/Evoked_Cohort_Mice/ID269/ID269_08032023_psilocybin/TSeries-03082023-1211-066/suite2p/plane0/cells.pkl\"\n",
    "saline_276 = \"C:/Users/Conor/Documents/Imaging_Data/Two-Photon/Psilocybin_Project/Evoked_Cohort_Mice/ID276/ID276_07032023_Psilocybin/TSeries-03072023-1303-063/suite2p/plane0/cells.pkl\"\n",
    "psilo_276 = \"C:/Users/Conor/Documents/Imaging_Data/Two-Photon/Psilocybin_Project/Evoked_Cohort_Mice/ID276/ID276_07032023_Psilocybin/TSeries-03072023-1303-064/suite2p/plane0/cells.pkl\"\n",
    "\n",
    "# saline_473 = \"F:/Two-Photon/Psilocybin Project/Evoked Cohort Mice/ID473/psilo/TSeries-10132023-1324-139/suite2p/plane0/cells.pkl\"\n",
    "# psilo_473 = \"F:/Two-Photon/Psilocybin Project/Evoked Cohort Mice/ID473/psilo/TSeries-10132023-1324-140/suite2p/plane0/cells.pkl\"\n",
    "\n",
    "# saline_474 = \"F:/Two-Photon/Psilocybin Project/Evoked Cohort Mice/ID474/psilo/TSeries-10132023-1324-142/suite2p/plane0/cells.pkl\"\n",
    "# psilo_474 = \"F:/Two-Photon/Psilocybin Project/Evoked Cohort Mice/ID474/psilo/TSeries-10132023-1324-143/suite2p/plane0/cells.pkl\"\n",
    "\n",
    "all_dicts_saline = [saline_184,saline_186,saline_237,saline_239,saline_251,saline_269,saline_276]\n",
    "all_dicts_psilo = [psilo_184,psilo_186,psilo_237,psilo_239,psilo_251,psilo_269,psilo_276]\n",
    "all_dicts_saline_str = [\"saline_184\",\"saline_186\",\"saline_237\",\"saline_239\",\"saline_251\",\"saline_269\",\"saline_276\"]\n",
    "all_dicts_psilo_str = [\"psilo_184\",\"psilo_186\",\"psilo_237\",\"psilo_239\",\"psilo_251\",\"psilo_269\",\"psilo_276\"]\n",
    "psilo_pre_dict ={}\n",
    "psilo_post_dict = {}\n",
    "\n",
    "for file in all_dicts_saline_str:\n",
    "    psilo_pre_dict[file]=None\n",
    "\n",
    "for file in all_dicts_psilo_str:\n",
    "    psilo_post_dict[file] = None\n",
    "\n",
    "# for file in all_dicts_saline:\n",
    "#     with open(file,'rb') as f:\n",
    "#         saline_dict[file] = pickle.load(f)\n",
    "\n",
    "zippedsaline = zip(all_dicts_saline, all_dicts_saline_str)\n",
    "for k,v in zippedsaline:\n",
    "    with open(k,'rb') as f:\n",
    "        psilo_pre_dict[v] = pickle.load(f)\n",
    "\n",
    "\n",
    "zippedpsilo = zip(all_dicts_psilo, all_dicts_psilo_str)\n",
    "for k,v in zippedpsilo:\n",
    "    with open(k,'rb') as f:\n",
    "        psilo_post_dict[v] = pickle.load(f)\n"
   ]
  },
  {
   "cell_type": "code",
   "execution_count": 43,
   "metadata": {},
   "outputs": [
    {
     "name": "stdout",
     "output_type": "stream",
     "text": [
      "(3224, 12)\n",
      "(3224, 4)\n"
     ]
    }
   ],
   "source": [
    "matrix_frequency_saline = []\n",
    "matrix_intensity_saline = []\n",
    "\n",
    "for dict in psilo_pre_dict.keys():\n",
    "    for key in psilo_pre_dict[dict].keys():\n",
    "        cell_ID = psilo_pre_dict[dict][key]\n",
    "        cell0 = cell_ID['traces']\n",
    "        nfreq = list(cell_ID['traces'].keys())\n",
    "        nInt = list(cell_ID['traces'][nfreq[0]].keys())\n",
    "        ntrial = list(cell_ID['traces'][nfreq[0]][nInt[0]].keys())\n",
    "\n",
    "        matrix = np.array([[[cell0[i][j][k] for k in ntrial] for j in nInt] for i in nfreq])\n",
    "            # Average the matrix across trials\n",
    "        matrix_av = matrix.mean(axis=2)\n",
    "\n",
    "        # Reshape the matrix so that the baseline mean is subtracted from the mean of the response.  \n",
    "        matrix_res = matrix_av[:,:,5:].mean(axis=-1) - matrix_av[:,:,:5].mean(axis=-1)\n",
    "\n",
    "        # Runs SVD on the reshaped matrix, calculates the percentage variance explained.  If it is below threshold, moves onto next iteration.\n",
    "        U, S, Vt = np.linalg.svd(matrix_res)\n",
    "        S = S**2/(S**2).sum()\n",
    "\n",
    "        # matrix_all.append(U[:,0].reshape(-1,1) @ Vt[0,:].reshape(1,-1))\n",
    "        matrix_frequency_saline.append(np.abs(U[:,0]))\n",
    "        matrix_intensity_saline.append(np.abs(Vt[:,0]))\n",
    "\n",
    "matrix_frequency_saline = np.array(matrix_frequency_saline)\n",
    "matrix_intensity_saline = np.array(matrix_intensity_saline)\n",
    "\n",
    "print(matrix_frequency_saline.shape)\n",
    "print(matrix_intensity_saline.shape)"
   ]
  },
  {
   "cell_type": "code",
   "execution_count": 45,
   "metadata": {},
   "outputs": [
    {
     "name": "stdout",
     "output_type": "stream",
     "text": [
      "(3448, 12)\n",
      "(3448, 4)\n"
     ]
    }
   ],
   "source": [
    "matrix_frequency_psilo = []\n",
    "matrix_intensity_psilo = []\n",
    "\n",
    "for dict in psilo_post_dict.keys():\n",
    "    for key in psilo_post_dict[dict].keys():\n",
    "        cell_ID = psilo_post_dict[dict][key]\n",
    "        cell0 = cell_ID['traces']\n",
    "        nfreq = list(cell_ID['traces'].keys())\n",
    "        nInt = list(cell_ID['traces'][nfreq[0]].keys())\n",
    "        ntrial = list(cell_ID['traces'][nfreq[0]][nInt[0]].keys())\n",
    "\n",
    "        matrix = np.array([[[cell0[i][j][k] for k in ntrial] for j in nInt] for i in nfreq])\n",
    "            # Average the matrix across trials\n",
    "        matrix_av = matrix.mean(axis=2)\n",
    "\n",
    "        # Reshape the matrix so that the baseline mean is subtracted from the mean of the response.  \n",
    "        matrix_res = matrix_av[:,:,5:].mean(axis=-1) - matrix_av[:,:,:5].mean(axis=-1)\n",
    "\n",
    "        # Runs SVD on the reshaped matrix, calculates the percentage variance explained.  If it is below threshold, moves onto next iteration.\n",
    "        U, S, Vt = np.linalg.svd(matrix_res)\n",
    "        S = S**2/(S**2).sum()\n",
    "\n",
    "        # matrix_all.append(U[:,0].reshape(-1,1) @ Vt[0,:].reshape(1,-1))\n",
    "        matrix_frequency_psilo.append(np.abs(U[:,0]))\n",
    "        matrix_intensity_psilo.append(np.abs(Vt[:,0]))\n",
    "\n",
    "matrix_frequency_psilo = np.array(matrix_frequency_psilo)\n",
    "matrix_intensity_psilo = np.array(matrix_intensity_psilo)\n",
    "\n",
    "print(matrix_frequency_psilo.shape)\n",
    "print(matrix_intensity_psilo.shape)"
   ]
  },
  {
   "cell_type": "code",
   "execution_count": 46,
   "metadata": {},
   "outputs": [],
   "source": [
    "best_frequency_pre = np.argmax(matrix_frequency_saline, axis=1)\n",
    "best_frequency_post = np.argmax(matrix_frequency_psilo, axis=1)\n",
    "\n",
    "best_frequency_pre = pd.Series(best_frequency_pre)\n",
    "best_frequency_post = pd.Series(best_frequency_post)\n",
    "\n",
    "counts_pre = best_frequency_pre.value_counts(normalize=True)\n",
    "counts_post = best_frequency_post.value_counts(normalize=True)"
   ]
  },
  {
   "cell_type": "code",
   "execution_count": 50,
   "metadata": {},
   "outputs": [
    {
     "data": {
      "image/png": "[encoded data removed]",
      "text/plain": [
       "<Figure size 800x600 with 1 Axes>"
      ]
     },
     "metadata": {},
     "output_type": "display_data"
    }
   ],
   "source": [
    "# Create a bar plot comparing the two measures\n",
    "plt.figure(figsize=(8, 6))\n",
    "plt.bar(counts_pre.index, counts_pre.values, color='skyblue', alpha=0.5, label='Pre-psilocybin')\n",
    "plt.bar(counts_post.index, counts_post.values, color='orange', alpha=0.5, label='Post-psilocybin')\n",
    "plt.xlabel('Frequency')\n",
    "plt.ylabel('Proportion')\n",
    "plt.title('Distribution of Best Frequencies Pre- and Post-psilocybin',pad=10)\n",
    "plt.xticks(counts_pre.index)\n",
    "plt.ylim(0,0.15)\n",
    "plt.legend()\n",
    "plt.tight_layout()\n",
    "plt.show()"
   ]
  },
  {
   "cell_type": "code",
   "execution_count": 51,
   "metadata": {},
   "outputs": [
    {
     "name": "stdout",
     "output_type": "stream",
     "text": [
      "KL Divergence: 0.00046146121095660617\n"
     ]
    }
   ],
   "source": [
    "# Calculate the KL divergence:\n",
    "\n",
    "kl_divergence = entropy(counts_pre, counts_post)\n",
    "\n",
    "print(f\"KL Divergence: {kl_divergence}\")"
   ]
  }
 ],
 "metadata": {
  "kernelspec": {
   "display_name": "Python 3",
   "language": "python",
   "name": "python3"
  },
  "language_info": {
   "codemirror_mode": {
    "name": "ipython",
    "version": 3
   },
   "file_extension": ".py",
   "mimetype": "text/x-python",
   "name": "python",
   "nbconvert_exporter": "python",
   "pygments_lexer": "ipython3",
   "version": "3.9.13"
  }
 },
 "nbformat": 4,
 "nbformat_minor": 2
}
