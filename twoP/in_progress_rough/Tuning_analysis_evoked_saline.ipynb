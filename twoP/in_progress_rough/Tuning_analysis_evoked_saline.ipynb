{
 "cells": [
  {
   "cell_type": "code",
   "execution_count": 100,
   "metadata": {},
   "outputs": [],
   "source": [
    "import matplotlib.pyplot as plt\n",
    "import numpy as np\n",
    "import pickle\n",
    "from sklearn.metrics import pairwise_distances\n",
    "import pandas as pd\n",
    "import scipy.stats as ss\n",
    "import seaborn as sns\n",
    "from mpl_toolkits.axes_grid1 import make_axes_locatable\n",
    "from scipy.stats import kstest\n",
    "\n",
    "z_thresh = 4\n",
    "filepath = \"F:/Two-Photon/Psilocybin Project/Evoked Cohort Mice/\""
   ]
  },
  {
   "cell_type": "code",
   "execution_count": 6,
   "metadata": {},
   "outputs": [],
   "source": [
    "def get_active_cells(traces):\n",
    "\n",
    "    # going to return a dictionary with only active cells, formatted exactly the same as traces\n",
    "\n",
    "    d = dict.fromkeys(traces.keys())\n",
    "\n",
    "    for cell in traces:\n",
    "        if traces[cell]['active'] == True:\n",
    "            d[cell] = traces[cell]\n",
    "        else:\n",
    "            d.pop(cell,None)\n",
    "\n",
    "    return d"
   ]
  },
  {
   "cell_type": "code",
   "execution_count": 7,
   "metadata": {},
   "outputs": [],
   "source": [
    "def find_max_column(arr):\n",
    "    # Find the column index of the global maximum value in the flattened array\n",
    "    global_max_index = np.argmax(arr)\n",
    "\n",
    "    # Convert the flattened index to row and column indices\n",
    "    row_index, global_max_column_index = np.unravel_index(global_max_index, arr.shape)\n",
    "\n",
    "    return global_max_column_index"
   ]
  },
  {
   "cell_type": "code",
   "execution_count": 9,
   "metadata": {},
   "outputs": [],
   "source": [
    "# Load all required files for the saline recording day\n",
    "\n",
    "# saline_1_184 = \"C:/Users/Conor/Documents/Imaging_Data/Two-Photon/Psilocybin_Project/Evoked_Cohort_Mice/ID184/11282022_GCaMP6s_ID184_saline/TSeries-11282022-0011-023/suite2p/plane0/cells.pkl\"\n",
    "# saline_2_184 = \"C:/Users/Conor/Documents/Imaging_Data/Two-Photon/Psilocybin_Project/Evoked_Cohort_Mice/ID184/11282022_GCaMP6s_ID184_saline/TSeries-11282022-0011-025/suite2p/plane0/cells.pkl\"\n",
    "\n",
    "saline_1_186 = \"F:/Two-Photon/Psilocybin Project/Evoked Cohort Mice/ID186/11242022_GCaMP6s_ID186_saline/TSeries-11222022-1228-021/suite2p/plane0/cells.pkl\"\n",
    "saline_2_186 = \"F:/Two-Photon/Psilocybin Project/Evoked Cohort Mice/ID186/11242022_GCaMP6s_ID186_saline/TSeries-11222022-1228-022/suite2p/plane0/cells.pkl\"\n",
    "\n",
    "saline_1_237 = \"F:/Two-Photon/Psilocybin Project/Evoked Cohort Mice/ID237/12082022_GCaMP6s_ID237_saline/TSeries-12082022-1143-031/suite2p/plane0/cells.pkl\"\n",
    "saline_2_237 = \"F:/Two-Photon/Psilocybin Project/Evoked Cohort Mice/ID237/12082022_GCaMP6s_ID237_saline/TSeries-12082022-1143-032/suite2p/plane0/cells.pkl\"\n",
    "\n",
    "saline_1_239 = \"F:/Two-Photon/Psilocybin Project/Evoked Cohort Mice/ID239/01132023_ID239_saline/TSeries-01122023-1243-038/suite2p/plane0/cells.pkl\"\n",
    "saline_2_239 = \"F:/Two-Photon/Psilocybin Project/Evoked Cohort Mice/ID239/01132023_ID239_saline/TSeries-01122023-1243-039/suite2p/plane0/cells.pkl\"\n",
    "\n",
    "saline_1_251 = \"F:/Two-Photon/Psilocybin Project/Evoked Cohort Mice/ID251/ID251_13012023_saline/TSeries-01122023-1243-040/suite2p/plane0/cells.pkl\"\n",
    "saline_2_251 = \"F:/Two-Photon/Psilocybin Project/Evoked Cohort Mice/ID251/ID251_13012023_saline/TSeries-01122023-1243-041/suite2p/plane0/cells.pkl\"\n",
    "\n",
    "saline_1_269 = \"F:/Two-Photon/Psilocybin Project/Evoked Cohort Mice/ID269/ID269_06032023_saline/TSeries-03062023-1216-061/suite2p/plane0/cells.pkl\"\n",
    "saline_2_269 = \"F:/Two-Photon/Psilocybin Project/Evoked Cohort Mice/ID269/ID269_06032023_saline/TSeries-03062023-1216-062/suite2p/plane0/cells.pkl\"\n",
    "\n",
    "saline_1_276 = \"F:/Two-Photon/Psilocybin Project/Evoked Cohort Mice/ID276/ID276_03032023_saline/TSeries-03032023-1447-059/suite2p/plane0/cells.pkl\"\n",
    "saline_2_276 = \"F:/Two-Photon/Psilocybin Project/Evoked Cohort Mice/ID276/ID276_03032023_saline/TSeries-03032023-1447-060/suite2p/plane0/cells.pkl\"\n",
    "\n",
    "saline_1_473 = \"F:/Two-Photon/Psilocybin Project/Evoked Cohort Mice/ID473/saline/TSeries-01142009-2331-135/suite2p/plane0/cells.pkl\"\n",
    "saline_2_473 = \"F:/Two-Photon/Psilocybin Project/Evoked Cohort Mice/ID473/saline/TSeries-01142009-2331-136/suite2p/plane0/cells.pkl\"\n",
    "\n",
    "saline_1_474 = \"F:/Two-Photon/Psilocybin Project/Evoked Cohort Mice/ID474/saline/TSeries-01142009-2331-137/suite2p/plane0/cells.pkl\"\n",
    "saline_2_474 = \"F:/Two-Photon/Psilocybin Project/Evoked Cohort Mice/ID474/saline/TSeries-01142009-2331-138/suite2p/plane0/cells.pkl\"\n",
    "\n",
    "all_dicts_saline_1 = [saline_1_186,saline_1_237,saline_1_239,saline_1_251,saline_1_269,saline_1_276,saline_1_473,saline_1_474]\n",
    "all_dicts_saline_2 = [saline_2_186,saline_2_237,saline_2_239,saline_2_251,saline_2_269,saline_2_276,saline_2_473,saline_2_474]\n",
    "all_dicts_saline_1_str = [\"saline_1_186\",\"saline_1_237\",\"saline_1_239\",\"saline_1_251\",\"saline_1_269\",\"saline_1_276\",\"saline_1_473\",\"saline_1_474\"]\n",
    "all_dicts_saline_2_str =  [\"saline_2_186\",\"saline_2_237\",\"saline_2_239\",\"saline_2_251\",\"saline_2_269\",\"saline_2_276\",\"saline_2_473\",\"saline_2_474\"]\n",
    "saline_dict_1 ={}\n",
    "saline_dict_2 = {}\n",
    "\n",
    "for file in all_dicts_saline_1_str:\n",
    "    saline_dict_1[file]=None\n",
    "\n",
    "for file in all_dicts_saline_2_str:\n",
    "    saline_dict_2[file] = None\n",
    "\n",
    "zippedsaline = zip(all_dicts_saline_1, all_dicts_saline_1_str)\n",
    "for k,v in zippedsaline:\n",
    "    with open(k,'rb') as f:\n",
    "        saline_dict_1[v] = pickle.load(f)\n",
    "\n",
    "zippedpsilo = zip(all_dicts_saline_2, all_dicts_saline_2_str)\n",
    "for k,v in zippedpsilo:\n",
    "    with open(k,'rb') as f:\n",
    "        saline_dict_2[v] = pickle.load(f)\n"
   ]
  },
  {
   "cell_type": "code",
   "execution_count": 11,
   "metadata": {},
   "outputs": [
    {
     "name": "stdout",
     "output_type": "stream",
     "text": [
      "[4364, 5371, 6612, 8140, 10020, 12335, 15184, 18691, 23009, 28324, 34867, 42922] [35, 50, 65, 80] [1, 2, 3, 4, 5, 6, 7, 8, 9, 10]\n",
      "['saline_1_186', 'saline_1_237', 'saline_1_239', 'saline_1_251', 'saline_1_269', 'saline_1_276', 'saline_1_473', 'saline_1_474']\n"
     ]
    }
   ],
   "source": [
    "\n",
    "cell_list_1 = list(saline_dict_1[all_dicts_saline_1_str[0]].keys())\n",
    "dict_keys = list(saline_dict_1.keys())\n",
    "\n",
    "nfreq = list(saline_dict_1[all_dicts_saline_1_str[0]][cell_list_1[0]]['traces'].keys())\n",
    "nInt = list(saline_dict_1[all_dicts_saline_1_str[0]][cell_list_1[0]]['traces'][nfreq[0]].keys())\n",
    "ntrial = list(saline_dict_1[all_dicts_saline_1_str[0]][cell_list_1[0]]['traces'][nfreq[0]][nInt[0]].keys())\n",
    "# nfreq.insert(0, 12)\n",
    "print(nfreq, nInt, ntrial)\n",
    "print(dict_keys)"
   ]
  },
  {
   "cell_type": "code",
   "execution_count": 64,
   "metadata": {},
   "outputs": [],
   "source": [
    "# Create an array of all the matched cells that are sound-responsive in both recordings.  Each row is a matched cell pair. \n",
    "\n",
    "def get_coactive_cells(dict_1,dict_2,PRE,POST):\n",
    "\n",
    "    matched_responsive_1 = []\n",
    "    matched_responsive_2 = []\n",
    "\n",
    "    matched_cells = dict_1[PRE][next(iter(dict_1[PRE]))]['matched_cells']\n",
    "    matched_cells_2 = dict_2[POST][next(iter(dict_2[POST]))]['matched_cells']\n",
    "\n",
    "    if len(matched_cells) != len(matched_cells_2):\n",
    "        print(\"You have two different matched cells arrays here!\")\n",
    "    \n",
    "    else:\n",
    "\n",
    "        for cell in dict_1[PRE]:\n",
    "            if cell in matched_cells[:,0] and dict_1[PRE][cell]['active'] == True:\n",
    "                matched_responsive_1.append(cell)\n",
    "\n",
    "        for cell in dict_2[POST]:\n",
    "            if cell in matched_cells[:,1] and dict_2[POST][cell]['active'] == True:\n",
    "                matched_responsive_2.append(cell)\n",
    "\n",
    "        indices = np.where(np.isin(matched_cells[:, 0], matched_responsive_1))\n",
    "\n",
    "        # Find the indices where the values in column 1 appear in 'sublist_col1'\n",
    "        indices_col1 = np.isin(matched_cells[:, 0], matched_responsive_1)\n",
    "\n",
    "        # Find the indices where the values in column 2 appear in 'sublist_col2'\n",
    "        indices_col2 = np.isin(matched_cells[:, 1], matched_responsive_2)\n",
    "\n",
    "        # Combine the two conditions using logical AND\n",
    "        combined_indices = np.logical_and(indices_col1, indices_col2)\n",
    "\n",
    "        # Extract the rows where both conditions are true\n",
    "        coactive = matched_cells[combined_indices]\n",
    "\n",
    "    return coactive\n"
   ]
  },
  {
   "cell_type": "code",
   "execution_count": 291,
   "metadata": {},
   "outputs": [],
   "source": [
    "def calculate_relative_frequencies(values, unique_values):\n",
    "    total_values = len(values)\n",
    "    frequencies = np.array([np.sum(values == value) / total_values for value in unique_values])\n",
    "    return frequencies\n",
    "\n",
    "def plot_comparison(values_set1, values_set2):\n",
    "    # Calculate unique values for each set\n",
    "    unique_values_set1 = np.unique(values_set1)\n",
    "    unique_values_set2 = np.unique(values_set2)\n",
    "    \n",
    "    # Combine unique values from both sets\n",
    "    unique_values = np.unique(np.concatenate((unique_values_set1, unique_values_set2)))\n",
    "\n",
    "    # Halve the unique values except for 0\n",
    "    halved_unique_values = [value / 2 if value != 0 else 0 for value in unique_values]\n",
    "\n",
    "    # Calculate relative frequencies for each set based on the unique values\n",
    "    rel_freq_set1 = calculate_relative_frequencies(values_set1, unique_values)\n",
    "    rel_freq_set2 = calculate_relative_frequencies(values_set2, unique_values)\n",
    "\n",
    "    # Set the width of the bars\n",
    "    bar_width = 0.35\n",
    "\n",
    "    # Set the positions of the bars on the x-axis\n",
    "    r1 = np.arange(len(unique_values))\n",
    "    r2 = [x + bar_width for x in r1]\n",
    "\n",
    "    # Create the bar plot\n",
    "    plt.bar(r1, rel_freq_set1, color='blue', width=bar_width, edgecolor='black', label='Pre-Saline')\n",
    "    plt.bar(r2, rel_freq_set2, color='orange', width=bar_width, edgecolor='black', label='Post-Saline')\n",
    "\n",
    "    # Add labels and title\n",
    "    plt.xlabel('Bandwidth (Octaves)')\n",
    "    plt.ylabel('Probability')\n",
    "    plt.title('Bandwidth at 50 dB, Pre- and Post-Saline')\n",
    "\n",
    "    # Set the modified x tick labels\n",
    "    plt.xticks([r + bar_width / 2 for r in range(len(unique_values))], halved_unique_values)\n",
    "\n",
    "    # Add legend\n",
    "    plt.legend()\n",
    "    plt.tight_layout()\n",
    "\n",
    "    # Show plot\n",
    "    plt.show()\n"
   ]
  },
  {
   "cell_type": "code",
   "execution_count": 14,
   "metadata": {},
   "outputs": [],
   "source": [
    "def BF_percent_changed(coactive,shift_range,dict_1,dict_2,PRE,POST):\n",
    "\n",
    "    same_place_counter = 0\n",
    "    not_same_counter = 0\n",
    "\n",
    "    for i, cell_1, cell_2 in zip(range(len(coactive)), coactive[:,0], coactive[:,1]):\n",
    "        tuning_array_1 = dict_1[PRE][cell_1]['peak_tuning']\n",
    "        tuning_array_2 = dict_2[POST][cell_2]['peak_tuning']\n",
    "            \n",
    "        BF_column = find_max_column(tuning_array_1)\n",
    "        BF_pre = tuning_array_1[:, BF_column]\n",
    "        BF_post = tuning_array_2[:, BF_column]\n",
    "\n",
    "        max_value_index1 = np.argmax(BF_pre)\n",
    "        max_value_index2 = np.argmax(BF_post)\n",
    "        BF_shift = abs(max_value_index1 - max_value_index2)\n",
    "\n",
    "        if max_value_index1 == max_value_index2:\n",
    "            same_place_counter += 1\n",
    "        elif BF_shift <= shift_range and max_value_index1 != np.argmax(BF_post):\n",
    "            same_place_counter += 1\n",
    "        else:\n",
    "            not_same_counter += 1\n",
    "\n",
    "    percent_shifted = (not_same_counter / len(coactive)) * 100\n",
    "\n",
    "    return not_same_counter"
   ]
  },
  {
   "cell_type": "code",
   "execution_count": 33,
   "metadata": {},
   "outputs": [],
   "source": [
    "def get_BF_shifts(coactive,dict_1,dict_2,PRE,POST):\n",
    "\n",
    "    BF_shift_array = np.zeros_like(coactive[:,0])\n",
    "\n",
    "    for i,cell_1, cell_2 in zip(range(len(coactive[:,0])),coactive[:,0],coactive[:,1]):\n",
    "        tuning_array_1 = dict_1[PRE][cell_1]['tuning']\n",
    "        tuning_array_2 = dict_2[POST][cell_2]['tuning']\n",
    "        \n",
    "        BF_column = find_max_column(tuning_array_1)\n",
    "\n",
    "        BF_pre = tuning_array_1[:,BF_column]\n",
    "\n",
    "        BF_post = tuning_array_2[:,BF_column]\n",
    "\n",
    "        max_value_index1 = np.argmax(BF_pre)\n",
    "\n",
    "        max_value_index2 = np.argmax(BF_post)\n",
    "\n",
    "        BF_shift = max_value_index1 - max_value_index2\n",
    "\n",
    "        BF_shift_array[i] = BF_shift\n",
    "\n",
    "    return BF_shift_array\n"
   ]
  },
  {
   "cell_type": "code",
   "execution_count": 65,
   "metadata": {},
   "outputs": [],
   "source": [
    "def get_PI_shifts(coactive,dict_1,dict_2,PRE,POST):\n",
    "\n",
    "        PI_shift_array = np.zeros_like(coactive[:,0])\n",
    "\n",
    "        for i,cell_1, cell_2 in zip(range(len(coactive[:,0])),coactive[:,0],coactive[:,1]):\n",
    "                tuning_array_1 = dict_1[PRE][cell_1]['tuning']\n",
    "                tuning_array_2 = dict_2[POST][cell_2]['tuning']\n",
    "\n",
    "                PI_column_1 = find_max_column(tuning_array_1)\n",
    "                PI_column_2 = find_max_column(tuning_array_2)\n",
    "\n",
    "                PI_shift = PI_column_2 - PI_column_1\n",
    "\n",
    "                PI_shift_array[i] = PI_shift\n",
    "\n",
    "        return PI_shift_array\n"
   ]
  },
  {
   "cell_type": "code",
   "execution_count": 101,
   "metadata": {},
   "outputs": [],
   "source": [
    "def weighted_percentage_changes(pop_sizes,percent_shifted_all):\n",
    "\n",
    "    weighted_percentage_changes = []\n",
    "\n",
    "    for size, changed in zip(pop_sizes, percent_shifted_all):\n",
    "        # Calculate the percentage change for each population\n",
    "        percentage_change = (changed / size) * 100\n",
    "        # Weight the percentage change by the population size\n",
    "        weighted_percentage_change = percentage_change * (size / sum(pop_sizes))\n",
    "        weighted_percentage_changes.append(weighted_percentage_change)\n",
    "\n",
    "    return weighted_percentage_changes"
   ]
  },
  {
   "cell_type": "code",
   "execution_count": 68,
   "metadata": {},
   "outputs": [],
   "source": [
    "def get_lowest_response_intensity(coactive,dict_1,dict_2,PRE,POST):\n",
    "\n",
    "        lowest_response_intensity = np.zeros_like(coactive)\n",
    "\n",
    "        for i,cell_1, cell_2 in zip(range(len(coactive[:,0])),coactive[:,0],coactive[:,1]):\n",
    "                tuning_array_1 = dict_1[PRE][cell_1]['peak_tuning']\n",
    "                tuning_array_2 = dict_2[POST][cell_2]['peak_tuning']\n",
    "\n",
    "                for j in range(len(nInt)):\n",
    "                        if any(y > z_thresh for y in tuning_array_1[0:,j]): \n",
    "                                lowest_response_intensity[i,0] = float(j)\n",
    "                                break\n",
    "                        else:\n",
    "                                continue\n",
    "                \n",
    "                for j in range(len(nInt)):\n",
    "                        if any(y > z_thresh for y in tuning_array_2[0:,j]): \n",
    "                                lowest_response_intensity[i,1] = float(j)\n",
    "                                break\n",
    "                        else:\n",
    "                                continue\n",
    "                        \n",
    "\n",
    "        return lowest_response_intensity\n"
   ]
  },
  {
   "cell_type": "code",
   "execution_count": 72,
   "metadata": {},
   "outputs": [],
   "source": []
  },
  {
   "cell_type": "code",
   "execution_count": 102,
   "metadata": {},
   "outputs": [
    {
     "name": "stdout",
     "output_type": "stream",
     "text": [
      "[4, 3, 8, 4, 5, 5, 11, 7]\n",
      "[37, 12, 29, 53, 9, 18, 31, 48]\n"
     ]
    }
   ],
   "source": [
    "\n"
   ]
  },
  {
   "cell_type": "code",
   "execution_count": 94,
   "metadata": {},
   "outputs": [
    {
     "name": "stdout",
     "output_type": "stream",
     "text": [
      "237\n"
     ]
    }
   ],
   "source": [
    "lowest_response_intensity_all_con = np.concatenate(lowest_response_intensity_all)\n",
    "print(len(lowest_response_intensity_all_con))"
   ]
  },
  {
   "cell_type": "code",
   "execution_count": 97,
   "metadata": {},
   "outputs": [
    {
     "data": {
      "image/png": "[encoded data removed]",
      "text/plain": [
       "<Figure size 640x480 with 1 Axes>"
      ]
     },
     "metadata": {},
     "output_type": "display_data"
    }
   ],
   "source": [
    "# Calculate CDFs\n",
    "pre_amplitudes = lowest_response_intensity_all_con[:,0]\n",
    "post_amplitudes = lowest_response_intensity_all_con[:,1]\n",
    "\n",
    "\n",
    "pre_sorted = np.sort(pre_amplitudes)\n",
    "pre_cdf = np.arange(1, len(pre_sorted) + 1) / len(pre_sorted)\n",
    "\n",
    "post_sorted = np.sort(post_amplitudes)\n",
    "post_cdf = np.arange(1, len(post_sorted) + 1) / len(post_sorted)\n",
    "\n",
    "# Plot CDFs\n",
    "plt.plot(pre_sorted, pre_cdf, label='Pre-Drug Injection')\n",
    "plt.plot(post_sorted, post_cdf, label='Post-Drug Injection')\n",
    "\n",
    "# Add labels and legend\n",
    "plt.xlabel('Response Amplitude')\n",
    "plt.ylabel('Cumulative Probability')\n",
    "plt.title('Cumulative distribution of Lowest Response Intensity Pre- and Post-Saline')\n",
    "plt.legend()\n",
    "\n",
    "# Show plot\n",
    "plt.grid(True)\n",
    "plt.show()"
   ]
  },
  {
   "cell_type": "code",
   "execution_count": 93,
   "metadata": {},
   "outputs": [
    {
     "name": "stdout",
     "output_type": "stream",
     "text": [
      "KS Statistic: 0.0379746835443038\n",
      "P-value: 0.9957188819308439\n"
     ]
    }
   ],
   "source": [
    "# Perform KS test between two samples\n",
    "ks_statistic, p_value = kstest(lowest_response_intensity_all_con[:,0], lowest_response_intensity_all_con[:,1])\n",
    "\n",
    "# Print test results\n",
    "print(\"KS Statistic:\", ks_statistic)\n",
    "print(\"P-value:\", p_value)"
   ]
  },
  {
   "cell_type": "code",
   "execution_count": 96,
   "metadata": {},
   "outputs": [
    {
     "name": "stdout",
     "output_type": "stream",
     "text": [
      "P Value: 0.31068097011101425     Statistic: 1800.0\n"
     ]
    }
   ],
   "source": [
    "from scipy.stats import wilcoxon\n",
    "\n",
    "# Perform the Wilcoxon signed-rank test\n",
    "statistic, p_value = wilcoxon(lowest_response_intensity_all_con[:,0], lowest_response_intensity_all_con[:,1])\n",
    "\n",
    "print(\"P Value:\", p_value, \"    Statistic:\", statistic)"
   ]
  },
  {
   "cell_type": "code",
   "execution_count": 99,
   "metadata": {},
   "outputs": [],
   "source": [
    "np.save(filepath + 'lowest_response_matched_post_saline', lowest_response_intensity_all_con)"
   ]
  },
  {
   "cell_type": "code",
   "execution_count": 103,
   "metadata": {},
   "outputs": [],
   "source": [
    "def count_above_half_max(array):\n",
    "    max_value = max(array)\n",
    "    count = 0\n",
    "    \n",
    "    # Find the index of the maximum value in the array\n",
    "    max_index = array.argmax()\n",
    "    \n",
    "    # Start from the index of the maximum value and iterate downwards\n",
    "    index = max_index\n",
    "    while index >= 0 and array[index] >= max_value / 2:\n",
    "        count += 1\n",
    "        index -= 1\n",
    "    \n",
    "    # Start from the index of the maximum value and iterate upwards\n",
    "    index = max_index + 1  # Start from the next index\n",
    "    while index < len(array) and array[index] >= max_value / 2:\n",
    "        count += 1\n",
    "        index += 1\n",
    "    \n",
    "    return count"
   ]
  },
  {
   "cell_type": "code",
   "execution_count": 104,
   "metadata": {},
   "outputs": [],
   "source": [
    "#  Calculating response bandwidth\n",
    "\n",
    "# Get location of best frequency in array (peak tuning)\n",
    "# Move down the array and add 1 to a counter (starts at 1) if the response next to it is significant.  Once it is not significant, move back to the BF and go the other way, doing the same.  \n",
    "# Final count is the total number of responsive frequencies at the BF intensity.  \n",
    "# Do this for every active cell, or every matched cell, and get the distribution of bandwidths for pre and post saline.  \n",
    "# For the matched cells, calculate the difference in bandwidth pre- and post. \n",
    "\n",
    "\n",
    "def get_bandwidth(coactive,dict_1,dict_2,PRE,POST):\n",
    "\n",
    "    bandwidth = np.zeros_like(coactive)\n",
    "\n",
    "    # For each pair of cells in the coactive matrix, extract their tuning curves (i used later).\n",
    "    for i,cell_1, cell_2 in zip(range(len(coactive[:,0])),coactive[:,0],coactive[:,1]):\n",
    "                tuning_array_1 = dict_1[PRE][cell_1]['peak_tuning']\n",
    "                tuning_array_2 = dict_2[POST][cell_2]['peak_tuning']\n",
    "\n",
    "                # Extract the full row of frequencies, at the intensity where the BF is.\n",
    "                BF_column_1 = tuning_array_1[:,find_max_column(tuning_array_1)]\n",
    "                BF_column_2 = tuning_array_2[:,find_max_column(tuning_array_2)]\n",
    "\n",
    "                bandwidth[i,0] = count_above_half_max(BF_column_1)\n",
    "                bandwidth[i,1] = count_above_half_max(BF_column_2)\n",
    "\n",
    "    return bandwidth"
   ]
  },
  {
   "cell_type": "code",
   "execution_count": 122,
   "metadata": {},
   "outputs": [],
   "source": [
    "percent_shifted_all = []\n",
    "BF_shift_all = []\n",
    "pop_sizes = []\n",
    "PI_shift_all = []\n",
    "lowest_response_intensity_all = []\n",
    "bandwidth_all = []\n",
    "\n",
    "shift_range = 2"
   ]
  },
  {
   "cell_type": "code",
   "execution_count": 137,
   "metadata": {},
   "outputs": [],
   "source": [
    "\n",
    "\n",
    "coactive = get_coactive_cells(saline_dict_1,saline_dict_2,PRE,POST)\n",
    "pop_sizes.append(len(coactive))\n",
    "\n",
    "percent_shifted_all.append(BF_percent_changed(coactive,shift_range,saline_dict_1,saline_dict_2,PRE,POST))\n",
    "BF_shift_all.append(get_BF_shifts(coactive,saline_dict_1,saline_dict_2,PRE,POST))\n",
    "PI_shift_all.append(get_PI_shifts(coactive,saline_dict_1,saline_dict_2,PRE,POST))\n",
    "lowest_response_intensity_all.append(get_lowest_response_intensity(coactive,saline_dict_1,saline_dict_2,PRE,POST))\n",
    "bandwidth_all.append(get_bandwidth(coactive,saline_dict_1,saline_dict_2,PRE,POST))"
   ]
  },
  {
   "cell_type": "code",
   "execution_count": 139,
   "metadata": {},
   "outputs": [],
   "source": [
    "bandwidth_all_con = np.concatenate(bandwidth_all)"
   ]
  },
  {
   "cell_type": "code",
   "execution_count": 141,
   "metadata": {},
   "outputs": [
    {
     "data": {
      "text/plain": [
       "(array([[0.80696203, 0.28481013, 0.08438819, 0.04219409, 0.        ,\n",
       "         0.00527426, 0.02109705, 0.        , 0.00527426, 0.        ],\n",
       "        [0.87552743, 0.23206751, 0.11075949, 0.01582278, 0.        ,\n",
       "         0.        , 0.01054852, 0.        , 0.        , 0.00527426]]),\n",
       " array([1. , 1.8, 2.6, 3.4, 4.2, 5. , 5.8, 6.6, 7.4, 8.2, 9. ]),\n",
       " <a list of 2 BarContainer objects>)"
      ]
     },
     "execution_count": 141,
     "metadata": {},
     "output_type": "execute_result"
    },
    {
     "data": {
      "image/png": "[encoded data removed]",
      "text/plain": [
       "<Figure size 640x480 with 1 Axes>"
      ]
     },
     "metadata": {},
     "output_type": "display_data"
    }
   ],
   "source": [
    "plt.hist(bandwidth_all_con, density=True)"
   ]
  },
  {
   "cell_type": "code",
   "execution_count": 144,
   "metadata": {},
   "outputs": [],
   "source": [
    "np.save(filepath + 'bandwidths_saline',bandwidth_all_con)"
   ]
  },
  {
   "cell_type": "code",
   "execution_count": 145,
   "metadata": {},
   "outputs": [],
   "source": [
    "def get_bandwidth_at_best(dict_1,dict_2,PRE,POST):    \n",
    "    \n",
    "    bandwidth_pre = []\n",
    "    bandwidth_post = []\n",
    " \n",
    "    for cell in dict_1[PRE]:\n",
    "                if dict_1[PRE][cell]['active'] == True:\n",
    "                    tuning_array_1 = dict_1[PRE][cell]['peak_tuning']\n",
    "                    BF_column_1 = tuning_array_1[:,find_max_column(tuning_array_1)]\n",
    "                    bandwidth_1 = count_above_half_max(BF_column_1)\n",
    "                    bandwidth_pre.append(bandwidth_1)\n",
    "\n",
    "    for cell in dict_2[POST]:\n",
    "                if dict_2[POST][cell]['active'] == True:\n",
    "                    tuning_array_2 = dict_2[POST][cell]['peak_tuning']\n",
    "                    BF_column_2 = tuning_array_2[:,find_max_column(tuning_array_2)]\n",
    "                    bandwidth_2 = count_above_half_max(BF_column_2)\n",
    "                    bandwidth_post.append(bandwidth_2)\n",
    "\n",
    "    return bandwidth_pre, bandwidth_post"
   ]
  },
  {
   "cell_type": "code",
   "execution_count": 147,
   "metadata": {},
   "outputs": [],
   "source": [
    "bandwidth_pre_all = []\n",
    "bandwidth_post_all = []"
   ]
  },
  {
   "cell_type": "code",
   "execution_count": 169,
   "metadata": {},
   "outputs": [],
   "source": [
    "PRE = 'saline_1_474'\n",
    "POST = 'saline_2_474'"
   ]
  },
  {
   "cell_type": "code",
   "execution_count": 170,
   "metadata": {},
   "outputs": [],
   "source": [
    "bandwidth_pre, _ = get_bandwidth_all_cells(saline_dict_1,saline_dict_2,PRE,POST) \n",
    "bandwidth_pre_all.append(bandwidth_pre)\n",
    "\n",
    "_ , bandwidth_post = get_bandwidth_all_cells(saline_dict_1,saline_dict_2,PRE,POST) \n",
    "bandwidth_post_all.append(bandwidth_post)\n"
   ]
  },
  {
   "cell_type": "code",
   "execution_count": 171,
   "metadata": {},
   "outputs": [
    {
     "name": "stdout",
     "output_type": "stream",
     "text": [
      "8\n",
      "8\n"
     ]
    }
   ],
   "source": [
    "print(len(bandwidth_pre_all))\n",
    "print(len(bandwidth_post_all))"
   ]
  },
  {
   "cell_type": "code",
   "execution_count": 175,
   "metadata": {},
   "outputs": [
    {
     "data": {
      "image/png": "[encoded data removed]",
      "text/plain": [
       "<Figure size 640x480 with 1 Axes>"
      ]
     },
     "metadata": {},
     "output_type": "display_data"
    }
   ],
   "source": [
    "bandwidth_pre_all_con = np.concatenate(bandwidth_pre_all)\n",
    "bandwidth_post_all_con = np.concatenate(bandwidth_post_all)\n",
    "plot_comparison(bandwidth_pre_all_con,bandwidth_post_all_con)"
   ]
  },
  {
   "cell_type": "code",
   "execution_count": 176,
   "metadata": {},
   "outputs": [],
   "source": [
    "np.save(filepath + 'bandwidth_all_cells_post_saline', bandwidth_post_all_con)"
   ]
  },
  {
   "cell_type": "code",
   "execution_count": 177,
   "metadata": {},
   "outputs": [],
   "source": [
    "def get_activity_info(dict_1,dict_2,PRE,POST):\n",
    "\n",
    "    matched_responsive_1 = []\n",
    "    matched_non_responsive_1 = []\n",
    "    matched_responsive_2 = []\n",
    "    matched_non_responsive_2 = []\n",
    "\n",
    "    matched_cells = dict_1[PRE][next(iter(dict_1[PRE]))]['matched_cells']\n",
    "    matched_cells_2 = dict_2[POST][next(iter(dict_2[POST]))]['matched_cells']\n",
    "\n",
    "    if len(matched_cells) != len(matched_cells_2):\n",
    "        print(\"You have two different matched cells arrays here!\")\n",
    "\n",
    "    for cell in dict_1[PRE]:\n",
    "            if cell in matched_cells[:,0] and dict_1[PRE][cell]['active'] == True:\n",
    "                matched_responsive_1.append(cell)\n",
    "            elif cell in matched_cells[:,0] and dict_1[PRE][cell]['active'] == False:\n",
    "                  matched_non_responsive_1.append(cell)\n",
    "\n",
    "    for cell in dict_2[POST]:\n",
    "            if cell in matched_cells[:,1] and dict_2[POST][cell]['active'] == True:\n",
    "                matched_responsive_2.append(cell)\n",
    "            elif cell in matched_cells[:,1] and dict_2[POST][cell]['active'] == False:\n",
    "                  matched_non_responsive_2.append(cell)\n",
    "    \n",
    "    # Filter coactive cells where the first column is true and the second column is false\n",
    "    responsive_first_only = matched_cells[(np.isin(matched_cells[:, 0], matched_responsive_1)) & \n",
    "                                         (~np.isin(matched_cells[:, 1], matched_responsive_2))]\n",
    "    \n",
    "    # Filter coactive cells where the first column is true and the second column is false\n",
    "    responsive_second_only = matched_cells[(~np.isin(matched_cells[:, 0], matched_responsive_1)) & \n",
    "                                         (np.isin(matched_cells[:, 1], matched_responsive_2))]\n",
    "    \n",
    "    responsive_both = matched_cells[(np.isin(matched_cells[:, 0], matched_responsive_1)) & \n",
    "                                         (np.isin(matched_cells[:, 1], matched_responsive_2))]\n",
    "    \n",
    "    non_responsive = matched_cells[(~np.isin(matched_cells[:, 0], matched_responsive_1)) & \n",
    "                                         (~np.isin(matched_cells[:, 1], matched_responsive_2))]\n",
    "\n",
    "    total_matched_cells = len(matched_cells)\n",
    "    print(total_matched_cells)\n",
    "\n",
    "    total_responsive_both = len(responsive_both)\n",
    "    total_responsive_first_only = len(responsive_first_only)\n",
    "    total_responsive_second_only = len(responsive_second_only)\n",
    "    total_non_responsive = len(non_responsive)\n",
    "\n",
    "    if total_matched_cells == total_responsive_both + total_responsive_first_only + total_responsive_second_only + total_non_responsive:\n",
    "        print(\"The lengths add up correctly.\")\n",
    "    else:\n",
    "        print(\"The lengths do not add up correctly.\")\n",
    "\n",
    "\n",
    "    return responsive_both, responsive_first_only, responsive_second_only, non_responsive,matched_responsive_1,matched_responsive_2"
   ]
  },
  {
   "cell_type": "code",
   "execution_count": 194,
   "metadata": {},
   "outputs": [],
   "source": [
    "responsive_both_all = []\n",
    "responsive_first_only_all = []\n",
    "responsive_second_only_all = []\n",
    "non_responsive_all = []\n",
    "matched_active_1_all = []\n",
    "matched_active_2_all = []"
   ]
  },
  {
   "cell_type": "code",
   "execution_count": 205,
   "metadata": {},
   "outputs": [
    {
     "name": "stdout",
     "output_type": "stream",
     "text": [
      "153\n",
      "The lengths add up correctly.\n"
     ]
    }
   ],
   "source": [
    "PRE = 'saline_1_474'\n",
    "POST = 'saline_2_474'\n",
    "\n",
    "# Call the function once\n",
    "result = get_activity_info(saline_dict_1, saline_dict_2, PRE, POST)\n",
    "\n",
    "# Extract the outputs\n",
    "responsive_both, responsive_first_only, responsive_second_only, non_responsive, matched_active_1, matched_active_2 = result\n",
    "\n",
    "# Append to respective arrays\n",
    "responsive_both_all.append(responsive_both)\n",
    "responsive_first_only_all.append(responsive_first_only)\n",
    "responsive_second_only_all.append(responsive_second_only)\n",
    "non_responsive_all.append(non_responsive)\n",
    "matched_active_1_all.append(matched_active_1)\n",
    "matched_active_2_all.append(matched_active_2)"
   ]
  },
  {
   "cell_type": "code",
   "execution_count": 206,
   "metadata": {},
   "outputs": [
    {
     "name": "stdout",
     "output_type": "stream",
     "text": [
      "(237, 2)\n",
      "(144, 2)\n",
      "(153, 2)\n",
      "(537, 2)\n",
      "380\n",
      "390\n"
     ]
    }
   ],
   "source": [
    "responsive_both_con = np.concatenate(responsive_both_all)\n",
    "print(responsive_both_con.shape)\n",
    "\n",
    "responsive_first_only_con = np.concatenate(responsive_first_only_all)\n",
    "print(responsive_first_only_con.shape)\n",
    "\n",
    "responsive_second_only_con = np.concatenate(responsive_second_only_all)\n",
    "print(responsive_second_only_con.shape)\n",
    "\n",
    "non_responsive_con = np.concatenate(non_responsive_all)\n",
    "print(non_responsive_con.shape)\n",
    "\n",
    "matched_active_1_con = np.concatenate(matched_active_1_all)\n",
    "print(len(matched_active_1_con))\n",
    "\n",
    "matched_active_2_con = np.concatenate(matched_active_2_all)\n",
    "print(len(matched_active_2_con))"
   ]
  },
  {
   "cell_type": "code",
   "execution_count": 207,
   "metadata": {},
   "outputs": [
    {
     "name": "stdout",
     "output_type": "stream",
     "text": [
      "1071\n"
     ]
    }
   ],
   "source": [
    "total_cells = sum(len(arr) for arr in [responsive_both_con, responsive_first_only_con, responsive_second_only_con, non_responsive_con])\n",
    "\n",
    "print(total_cells)"
   ]
  },
  {
   "cell_type": "code",
   "execution_count": 208,
   "metadata": {},
   "outputs": [
    {
     "name": "stdout",
     "output_type": "stream",
     "text": [
      "22.128851540616246\n",
      "13.445378151260504\n",
      "14.285714285714285\n",
      "50.14005602240896\n"
     ]
    }
   ],
   "source": [
    "perc_responsive_both = len(responsive_both_con)/total_cells * 100\n",
    "\n",
    "print(perc_responsive_both)\n",
    "\n",
    "perc_responsive_first_only = len(responsive_first_only_con)/total_cells * 100\n",
    "\n",
    "print(perc_responsive_first_only)\n",
    "\n",
    "perc_responsive_second_only = len(responsive_second_only_con)/total_cells * 100\n",
    "\n",
    "print(perc_responsive_second_only)\n",
    "\n",
    "perc_non_responsive = len(non_responsive_con)/total_cells * 100\n",
    "\n",
    "print(perc_non_responsive)"
   ]
  },
  {
   "cell_type": "code",
   "execution_count": 209,
   "metadata": {},
   "outputs": [
    {
     "data": {
      "image/png": "[encoded data removed]",
      "text/plain": [
       "<Figure size 640x480 with 1 Axes>"
      ]
     },
     "metadata": {},
     "output_type": "display_data"
    }
   ],
   "source": [
    "# Pie chart\n",
    "labels = ['Responsive Both', 'Responsive First Only', 'Responsive Second Only', 'Non-responsive']\n",
    "sizes = [perc_responsive_both,perc_responsive_first_only, perc_responsive_second_only, perc_non_responsive]\n",
    "# Colors\n",
    "colors = ['#ff9999','#66b3ff','#99ff99','#ffcc99']\n",
    "# Explosion\n",
    "explode = (0.05, 0.05, 0.05, 0.05)\n",
    "\n",
    "plt.pie(sizes, colors=colors, labels=labels, autopct='%1.1f%%', startangle=90, pctdistance=0.85, explode=explode)\n",
    "# Draw circle\n",
    "centre_circle = plt.Circle((0,0),0.70,fc='white')\n",
    "fig = plt.gcf()\n",
    "fig.gca().add_artist(centre_circle)\n",
    "# Equal aspect ratio ensures that pie is drawn as a circle\n",
    "plt.axis('equal')\n",
    "# Adjust aspect ratio to make the sections of the donut plot equal\n",
    "plt.gca().set_aspect('equal', adjustable='box')\n",
    "plt.tight_layout()\n",
    "plt.show()"
   ]
  },
  {
   "cell_type": "code",
   "execution_count": 259,
   "metadata": {},
   "outputs": [],
   "source": [
    "def get_bandwidth_all_cells(dict_1,dict_2,PRE,POST,intensity):    \n",
    "    \n",
    "    bandwidth_pre = []\n",
    "    bandwidth_post = []\n",
    " \n",
    "    for cell in dict_1[PRE]:\n",
    "                if dict_1[PRE][cell]['active'] == True:\n",
    "                    tuning_array_1 = dict_1[PRE][cell]['peak_tuning']\n",
    "                    BF_column_1 = tuning_array_1[:,intensity]\n",
    "                    if any(value >= z_thresh for value in BF_column_1):\n",
    "                        bandwidth_1 = count_above_half_max(BF_column_1)\n",
    "                        bandwidth_pre.append(bandwidth_1)\n",
    "\n",
    "    for cell in dict_2[POST]:\n",
    "                if dict_2[POST][cell]['active'] == True:\n",
    "                    tuning_array_2 = dict_2[POST][cell]['peak_tuning']\n",
    "                    BF_column_2 = tuning_array_2[:,intensity]\n",
    "                    if any(value >= z_thresh for value in BF_column_2):\n",
    "                        bandwidth_2 = count_above_half_max(BF_column_2)\n",
    "                        bandwidth_post.append(bandwidth_2)\n",
    "                        print(cell)\n",
    "\n",
    "    return bandwidth_pre, bandwidth_post"
   ]
  },
  {
   "cell_type": "code",
   "execution_count": 279,
   "metadata": {},
   "outputs": [],
   "source": [
    "bandwidth_50_pre_all = []\n",
    "bandwidth_50_post_all = []"
   ]
  },
  {
   "cell_type": "code",
   "execution_count": 287,
   "metadata": {},
   "outputs": [
    {
     "name": "stdout",
     "output_type": "stream",
     "text": [
      "35\n",
      "53\n",
      "63\n",
      "68\n",
      "75\n",
      "76\n",
      "81\n",
      "93\n",
      "109\n",
      "113\n",
      "120\n",
      "125\n",
      "129\n",
      "135\n",
      "143\n",
      "152\n",
      "157\n",
      "159\n",
      "172\n",
      "183\n",
      "196\n",
      "205\n",
      "211\n",
      "218\n",
      "234\n",
      "242\n",
      "243\n",
      "273\n",
      "292\n",
      "301\n",
      "349\n",
      "355\n",
      "356\n",
      "366\n",
      "392\n",
      "401\n",
      "405\n",
      "411\n",
      "423\n",
      "441\n",
      "456\n",
      "465\n",
      "467\n",
      "564\n",
      "591\n",
      "624\n",
      "627\n",
      "646\n",
      "674\n",
      "723\n",
      "781\n",
      "794\n",
      "825\n",
      "886\n",
      "892\n",
      "916\n",
      "984\n",
      "1291\n",
      "8\n"
     ]
    }
   ],
   "source": [
    "PRE = 'saline_1_474'\n",
    "POST = 'saline_2_474'\n",
    "\n",
    "result = get_bandwidth_all_cells(saline_dict_1,saline_dict_2,PRE,POST,1)\n",
    "\n",
    "bandwidth_pre,bandwidth_post = result\n",
    "\n",
    "bandwidth_50_pre_all.append(bandwidth_pre)\n",
    "bandwidth_50_post_all.append(bandwidth_post)\n",
    "\n",
    "print(len(bandwidth_50_pre_all))\n",
    "\n"
   ]
  },
  {
   "cell_type": "code",
   "execution_count": 288,
   "metadata": {},
   "outputs": [
    {
     "name": "stdout",
     "output_type": "stream",
     "text": [
      "401\n",
      "326\n"
     ]
    }
   ],
   "source": [
    "bandwidth_50_pre_con = np.concatenate(bandwidth_50_pre_all)\n",
    "bandwidth_50_post_con = np.concatenate(bandwidth_50_post_all)\n",
    "\n",
    "print(len(bandwidth_50_pre_con))\n",
    "print(len(bandwidth_50_post_con))"
   ]
  },
  {
   "cell_type": "code",
   "execution_count": 292,
   "metadata": {},
   "outputs": [
    {
     "data": {
      "image/png": "[encoded data removed]",
      "text/plain": [
       "<Figure size 640x480 with 1 Axes>"
      ]
     },
     "metadata": {},
     "output_type": "display_data"
    }
   ],
   "source": [
    "plot_comparison(bandwidth_50_pre_con,bandwidth_50_post_con)"
   ]
  },
  {
   "cell_type": "code",
   "execution_count": 290,
   "metadata": {},
   "outputs": [
    {
     "name": "stdout",
     "output_type": "stream",
     "text": [
      "Mann-Whitney U statistic: 70360.0\n",
      "P-value: 0.01533104912683766\n"
     ]
    }
   ],
   "source": [
    "from scipy.stats import mannwhitneyu\n",
    "\n",
    "statistic, p_value = mannwhitneyu(bandwidth_50_pre_con, bandwidth_50_post_con)\n",
    "\n",
    "print(f\"Mann-Whitney U statistic: {statistic}\")\n",
    "print(f\"P-value: {p_value}\")"
   ]
  },
  {
   "cell_type": "code",
   "execution_count": 293,
   "metadata": {},
   "outputs": [],
   "source": [
    "np.save(filepath + 'bandwidth_50_saline_pre_allcells',bandwidth_50_pre_con)\n",
    "np.save(filepath + 'bandwidth_50_saline_post_allcells',bandwidth_50_post_con)"
   ]
  },
  {
   "cell_type": "code",
   "execution_count": null,
   "metadata": {},
   "outputs": [],
   "source": [
    "np.load(filepath + )"
   ]
  }
 ],
 "metadata": {
  "kernelspec": {
   "display_name": "Python 3",
   "language": "python",
   "name": "python3"
  },
  "language_info": {
   "codemirror_mode": {
    "name": "ipython",
    "version": 3
   },
   "file_extension": ".py",
   "mimetype": "text/x-python",
   "name": "python",
   "nbconvert_exporter": "python",
   "pygments_lexer": "ipython3",
   "version": "3.9.13"
  }
 },
 "nbformat": 4,
 "nbformat_minor": 2
}
