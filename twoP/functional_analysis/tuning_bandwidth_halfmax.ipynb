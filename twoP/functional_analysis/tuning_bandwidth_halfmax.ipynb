{
 "cells": [
  {
   "cell_type": "code",
   "execution_count": null,
   "metadata": {},
   "outputs": [],
   "source": [
    "'''\n",
    "Author: Conor Lane, March 2024\n",
    "contact: conor.lane1995@gmail.com\n",
    "\n",
    "Analysis code for calculating the bandwidths and shifts in bandwidths, both for all the active cells at a population level,\n",
    "and a subset of matched cells that were sound-responsive in both recordings. \n",
    "\n",
    "INPUTS: filepath to the evoked cohort megadicts (collected recordings for each condition from Evoked Cohort)\n",
    "        z_thresh - minimum z-score threshold over which we declare a significant response (default is 4)\n",
    "'''"
   ]
  },
  {
   "cell_type": "code",
   "execution_count": null,
   "metadata": {},
   "outputs": [],
   "source": [
    "import matplotlib.pyplot as plt\n",
    "import numpy as np\n",
    "import pandas as pd\n",
    "import os\n",
    "import pickle"
   ]
  },
  {
   "cell_type": "code",
   "execution_count": null,
   "metadata": {},
   "outputs": [],
   "source": [
    "# INPUTS:\n",
    "\n",
    "filepath = \"F:/Two-Photon/Psilocybin Project/Evoked Cohort Mice/megadicts\"\n",
    "z_thresh = 4"
   ]
  },
  {
   "cell_type": "markdown",
   "metadata": {},
   "source": [
    "LOAD EVOKED COHORT DICTS:"
   ]
  },
  {
   "cell_type": "code",
   "execution_count": null,
   "metadata": {},
   "outputs": [],
   "source": [
    "# Dictionary to map filenames to variable names\n",
    "file_variable_mapping = {\n",
    "    'saline_pre_dict.pkl': 'saline_pre',\n",
    "    'saline_post_dict.pkl': 'saline_post',\n",
    "    'psilo_pre_dict.pkl': 'psilo_pre',\n",
    "    'psilo_post_dict.pkl': 'psilo_post'\n",
    "}\n",
    "\n",
    "# Initialize empty dictionaries\n",
    "saline_pre = {}\n",
    "saline_post = {}\n",
    "psilo_pre = {}\n",
    "psilo_post = {}\n",
    "\n",
    "# Iterate through files in megadict folder\n",
    "for filename in os.listdir(filepath):\n",
    "    if filename in file_variable_mapping:\n",
    "        file_path = os.path.join(filepath, filename)\n",
    "        with open(file_path, 'rb') as file:\n",
    "            # Load pkl file and assign to respective dictionary variable\n",
    "            globals()[file_variable_mapping[filename]] = pickle.load(file)"
   ]
  },
  {
   "cell_type": "markdown",
   "metadata": {},
   "source": [
    "GENERAL FUNCTIONS:"
   ]
  },
  {
   "cell_type": "code",
   "execution_count": null,
   "metadata": {},
   "outputs": [],
   "source": [
    "# Plots a double-bar graph for two chosen bandwidth arrays. \n",
    "# INPUTS: values_set_1 and 2 - the two sets of bandwidths to compare\n",
    "#         title - title of graph as string\n",
    "#         label_1 - first bar label e.g. Pre-Saline\n",
    "#         label_2 - second bar label\n",
    "\n",
    "def calculate_relative_frequencies(values, unique_values):\n",
    "    total_values = len(values)\n",
    "    frequencies = np.array([np.sum(values == value) / total_values for value in unique_values])\n",
    "    return frequencies\n",
    "\n",
    "def plot_comparison(values_set1, values_set2,title,label_1,label_2):\n",
    "    # Calculate unique values for each set\n",
    "    unique_values_set1 = np.unique(values_set1)\n",
    "    unique_values_set2 = np.unique(values_set2)\n",
    "    \n",
    "    # Combine unique values from both sets\n",
    "    unique_values = np.unique(np.concatenate((unique_values_set1, unique_values_set2)))\n",
    "\n",
    "    # Halve the unique values except for 0\n",
    "    halved_unique_values = [value / 2 if value != 0 else 0 for value in unique_values]\n",
    "\n",
    "    # Calculate relative frequencies for each set based on the unique values\n",
    "    rel_freq_set1 = calculate_relative_frequencies(values_set1, unique_values)\n",
    "    rel_freq_set2 = calculate_relative_frequencies(values_set2, unique_values)\n",
    "\n",
    "    # Set the width of the bars\n",
    "    bar_width = 0.35\n",
    "\n",
    "    # Set the positions of the bars on the x-axis\n",
    "    r1 = np.arange(len(unique_values))\n",
    "    r2 = [x + bar_width for x in r1]\n",
    "\n",
    "    # Create the bar plot\n",
    "    plt.bar(r1, rel_freq_set1, color='blue', width=bar_width, edgecolor='black', label=label_1)\n",
    "    plt.bar(r2, rel_freq_set2, color='orange', width=bar_width, edgecolor='black', label=label_2)\n",
    "\n",
    "    # Add labels and title\n",
    "    plt.xlabel('Bandwidth (Octaves)')\n",
    "    plt.ylabel('Probability')\n",
    "    plt.title(title)\n",
    "\n",
    "    # Set the modified x tick labels\n",
    "    plt.xticks([r + bar_width / 2 for r in range(len(unique_values))], halved_unique_values)\n",
    "\n",
    "    # Add legend\n",
    "    plt.legend()\n",
    "    plt.tight_layout()\n",
    "\n",
    "    # Show plot\n",
    "    plt.show()\n"
   ]
  },
  {
   "cell_type": "code",
   "execution_count": null,
   "metadata": {},
   "outputs": [],
   "source": [
    "# Calculate the bandwidth of the cell using the half-max criterion, i.e. the continous range of responsive frequencies from the max response\n",
    "# that show a response above 50% of the maximum response.  \n",
    "# INPUTS:  Tuning array for the specified intensity (e.g. BF_column_1) in get_bandwidth_all_cells func.\n",
    "\n",
    "def count_above_half_max(array):\n",
    "    max_value = max(array)\n",
    "    count = 0\n",
    "    \n",
    "    # Find the index of the maximum value in the array\n",
    "    max_index = array.argmax()\n",
    "    \n",
    "    # Start from the index of the maximum value and iterate downwards\n",
    "    index = max_index\n",
    "    while index >= 0 and array[index] >= max_value / 2:\n",
    "        count += 1\n",
    "        index -= 1\n",
    "    \n",
    "    # Start from the index of the maximum value and iterate upwards\n",
    "    index = max_index + 1  # Start from the next index\n",
    "    while index < len(array) and array[index] >= max_value / 2:\n",
    "        count += 1\n",
    "        index += 1\n",
    "    \n",
    "    return count"
   ]
  },
  {
   "cell_type": "markdown",
   "metadata": {},
   "source": [
    "ALL CELLS FUNCTIONS:"
   ]
  },
  {
   "cell_type": "code",
   "execution_count": null,
   "metadata": {},
   "outputs": [],
   "source": [
    "# Calculates the bandwidth of every responsive cell in the cohort for a given condition. \n",
    "# Inputs:  dict - the given megadict you want to extract bandwidths from.\n",
    "#          Intensity - The intensity of sound stim you want in dB (0 = 35, 1 = 50, 2 = 65, 3 = 80)\n",
    "# Returns: List containing the bandwidth value (in no. of frequencies so bandwidth of 1 = 0.5 octaves)\n",
    "\n",
    "def get_bandwidth_all_cells(dict,intensity):    \n",
    "    \n",
    "    # Get a list of all the individual recording keys as strings\n",
    "    sub_dict_keys = dict.keys()\n",
    "\n",
    "    bandwidth_all = []\n",
    "    \n",
    "    # Iterate through each cell, in each individual recording. \n",
    "    for sub_dict in sub_dict_keys:\n",
    "        for cell in dict[sub_dict]:\n",
    "                \n",
    "                # Select only the responsive cells\n",
    "                if dict[sub_dict][cell]['active'] == True:\n",
    "\n",
    "                    # Extract the tuning information from the dict and isolate only the specified intensity. \n",
    "                    tuning_array_1 = dict[sub_dict][cell]['peak_tuning']\n",
    "                    BF_column_1 = tuning_array_1[:,intensity]\n",
    "\n",
    "                    # If the cell has a response at this sound intensity that is above z-score threshold,\n",
    "                    # calculate the bandwidth using half_max function\n",
    "                    if any(value >= z_thresh for value in BF_column_1):\n",
    "                        bandwidth = count_above_half_max(BF_column_1)\n",
    "                        bandwidth_all.append(bandwidth)\n",
    "\n",
    "    return bandwidth_all"
   ]
  },
  {
   "cell_type": "markdown",
   "metadata": {},
   "source": [
    "MATCHED CELLS FUNCTIONS:"
   ]
  },
  {
   "cell_type": "code",
   "execution_count": null,
   "metadata": {},
   "outputs": [],
   "source": [
    "# Create an array of all the matched cells that are sound-responsive in both recordings.  Each row is a matched cell pair. \n",
    "# INPUTS:  pre- and post- megadicts for a given drug condition. \n",
    "#          The specific recording to get matched cells for in the sub-dictionaries of pre- and post.\n",
    "#          Code is written to be used with the matched cells bandwidth functions. \n",
    "# OUTPUTS: (npairs x 2) array containing the matched cell pairs that were responsive in both recordings. \n",
    "\n",
    "def get_consistently_responsive_cells(dict_pre,dict_post,sub_dict_pre,sub_dict_post):\n",
    "\n",
    "    matched_responsive_1 = []\n",
    "    matched_responsive_2 = []\n",
    "\n",
    "    # Get the array of matched cell pairs stored under the dictionary's first cell key. \n",
    "    matched_cells = dict_post[sub_dict_post][next(iter(dict_post[sub_dict_post]))]['matched_cells']\n",
    "\n",
    "    # iterate through each cell in the first dict and check if it is a matched cell pair.  Append the matched cells to a list.\n",
    "    for cell in dict_pre[sub_dict_pre]:\n",
    "            if cell in matched_cells[:,0] and dict_pre[sub_dict_pre][cell]['active'] == True:\n",
    "                matched_responsive_1.append(cell)\n",
    "\n",
    "    # Same operation but with the second dictionary.\n",
    "    for cell in dict_post[sub_dict_post]:\n",
    "            if cell in matched_cells[:,1] and dict_post[sub_dict_post][cell]['active'] == True:\n",
    "                matched_responsive_2.append(cell)\n",
    "\n",
    "    indices = np.where(np.isin(matched_cells[:, 0], matched_responsive_1))\n",
    "\n",
    "    # Find the indices where the values in column 0 appear in the first match list.\n",
    "    indices_col1 = np.isin(matched_cells[:, 0], matched_responsive_1)\n",
    "\n",
    "    # Find the indices where the values in column 1 appear in the second match list. \n",
    "    indices_col2 = np.isin(matched_cells[:, 1], matched_responsive_2)\n",
    "\n",
    "    # Combine the two conditions using logical AND\n",
    "    combined_indices = np.logical_and(indices_col1, indices_col2)\n",
    "\n",
    "    # Extract the rows where both conditions are true\n",
    "    coactive = matched_cells[combined_indices]\n",
    "\n",
    "    return coactive\n"
   ]
  },
  {
   "cell_type": "code",
   "execution_count": null,
   "metadata": {},
   "outputs": [],
   "source": [
    "# Extract the bandwidths of the matched cell pairs across all recordings of that condition.  \n",
    "# INPUTS:  pre- and post-drug dictionaries to extract bandwidths.\n",
    "#          intensity - The intensity of sound stim you want in dB (0 = 35, 1 = 50, 2 = 65, 3 = 80)\n",
    "# OUTPUTS: (npairs x 2) array containing the pre- and post-bandwidths of every cell pair.  \n",
    "\n",
    "def get_bandwidth_matched_cells(dict_pre,dict_post,intensity):\n",
    "\n",
    "    matched_bandwidths = []\n",
    "\n",
    "    for sub_dict_pre, sub_dict_post in zip(dict_pre.keys(),dict_post.keys()):\n",
    "        \n",
    "        # Get the array of consistently responsive matched cell pairs for the pre- and post-conditions. \n",
    "        coactive = get_consistently_responsive_cells(dict_pre,dict_post,sub_dict_pre,sub_dict_post)\n",
    "\n",
    "        # Initialize empty array to place bandwidths in.\n",
    "        bandwidth = np.zeros_like(coactive)\n",
    "\n",
    "        # For each pair of cells in the coactive matrix, extract their tuning curves. i keeps track of the pair's row position. \n",
    "        for i,cell_1, cell_2 in zip(range(len(coactive[:,0])),coactive[:,0],coactive[:,1]):\n",
    "                    tuning_array_1 = dict_pre[sub_dict_pre][cell_1]['peak_tuning']\n",
    "                    tuning_array_2 = dict_post[sub_dict_post][cell_2]['peak_tuning']\n",
    "\n",
    "                    # Extract the full row of frequencies, at the selected intensity.\n",
    "                    column_pre = tuning_array_1[:,intensity]\n",
    "                    column_post = tuning_array_2[:,intensity]\n",
    "\n",
    "                    # Calculate the bandwidths from each tuning array. \n",
    "                    bandwidth[i,0] = count_above_half_max(column_pre)\n",
    "                    bandwidth[i,1] = count_above_half_max(column_post)\n",
    "\n",
    "        matched_bandwidths.append(bandwidth)\n",
    "\n",
    "    matched_bandwidths = np.concatenate(matched_bandwidths)\n",
    "\n",
    "    return matched_bandwidths"
   ]
  },
  {
   "cell_type": "code",
   "execution_count": null,
   "metadata": {},
   "outputs": [],
   "source": [
    "# Calculate the shift in bandwidth in matched cells by subtracting post bandwidths from pre. \n",
    "\n",
    "def get_bandwidth_shift(matched_bandwidths):\n",
    "    bandwidth_change = matched_bandwidths[:,1] - matched_bandwidths[:,0]\n",
    "\n",
    "    return bandwidth_change"
   ]
  },
  {
   "cell_type": "markdown",
   "metadata": {},
   "source": [
    "ANALYSIS 1: BANDWIDTHS ALL CELLS"
   ]
  },
  {
   "cell_type": "code",
   "execution_count": null,
   "metadata": {},
   "outputs": [],
   "source": [
    "# Calculate the bandwidth for all cells in a particular dictionary at a specific intensity. Change dicts as needed. \n",
    "\n",
    "saline_pre_bandwidth_65 = get_bandwidth_all_cells(saline_pre,2)\n",
    "saline_post_bandwidth_65 = get_bandwidth_all_cells(saline_post,2)"
   ]
  },
  {
   "cell_type": "code",
   "execution_count": null,
   "metadata": {},
   "outputs": [],
   "source": [
    "# Plot the comparison of bandwidths, change title and labels as needed. \n",
    "\n",
    "title = 'Bandwidth at 65 dB, Pre- and Post-Saline'\n",
    "label_1 = 'Pre-Saline'\n",
    "label_2 = 'Post-Saline'\n",
    "plot_comparison(saline_pre_bandwidth_65,saline_post_bandwidth_65,title,label_1,label_2)"
   ]
  },
  {
   "cell_type": "markdown",
   "metadata": {},
   "source": [
    "ANALYSIS 2: BANDWIDTH MATCHED CELLS SUBSET"
   ]
  },
  {
   "cell_type": "code",
   "execution_count": null,
   "metadata": {},
   "outputs": [],
   "source": [
    "# Get the bandwidths for the matched cells, column 0 is pre, 1 is post. \n",
    "\n",
    "saline_matched_65 = get_bandwidth_matched_cells(saline_pre,saline_post,2)"
   ]
  },
  {
   "cell_type": "code",
   "execution_count": null,
   "metadata": {},
   "outputs": [],
   "source": [
    "title = 'Bandwidth Matched Cells at 65 dB, Pre- and Post-Saline'\n",
    "label_1 = 'Pre-Saline'\n",
    "label_2 = 'Post-Saline'\n",
    "plot_comparison(saline_matched_65[:,0],saline_matched_65[:,1],title,label_1,label_2)"
   ]
  },
  {
   "cell_type": "markdown",
   "metadata": {},
   "source": [
    "ANALYSIS 2: MATCHED CELLS CHANGE IN BANDWIDTH"
   ]
  },
  {
   "cell_type": "code",
   "execution_count": null,
   "metadata": {},
   "outputs": [],
   "source": [
    "# Get change in bandwidth for both the saline and psilocybin conditions. \n",
    "\n",
    "change_bandwidth_saline_65 = get_bandwidth_shift(get_bandwidth_matched_cells(saline_pre,saline_post,2))\n",
    "change_bandwidth_psilo_65 = get_bandwidth_shift(get_bandwidth_matched_cells(psilo_pre,psilo_post,2))\n"
   ]
  },
  {
   "cell_type": "code",
   "execution_count": null,
   "metadata": {},
   "outputs": [],
   "source": [
    "title = 'Change in Bandwidth at 65 dB, Saline vs Psilocybin'\n",
    "label_1 = 'Saline'\n",
    "label_2 = 'Psilocybin'\n",
    "plot_comparison(change_bandwidth_saline_65,change_bandwidth_psilo_65,title,label_1,label_2)"
   ]
  },
  {
   "cell_type": "code",
   "execution_count": null,
   "metadata": {},
   "outputs": [],
   "source": [
    "#  Not normally distributed so Mann Whitney test for difference. \n",
    "\n",
    "from scipy.stats import mannwhitneyu\n",
    "\n",
    "statistic, p_value = mannwhitneyu(change_bandwidth_saline_65, change_bandwidth_psilo_65)\n",
    "\n",
    "print(f\"Mann-Whitney U statistic: {statistic}\")\n",
    "print(f\"P-value: {p_value}\")"
   ]
  }
 ],
 "metadata": {
  "kernelspec": {
   "display_name": "Python 3",
   "language": "python",
   "name": "python3"
  },
  "language_info": {
   "codemirror_mode": {
    "name": "ipython",
    "version": 3
   },
   "file_extension": ".py",
   "mimetype": "text/x-python",
   "name": "python",
   "nbconvert_exporter": "python",
   "pygments_lexer": "ipython3",
   "version": "3.9.13"
  }
 },
 "nbformat": 4,
 "nbformat_minor": 2
}
